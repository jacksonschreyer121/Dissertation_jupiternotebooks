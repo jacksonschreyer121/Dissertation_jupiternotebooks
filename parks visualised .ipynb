{
 "cells": [
  {
   "cell_type": "code",
   "execution_count": 2,
   "id": "11071402",
   "metadata": {},
   "outputs": [
    {
     "ename": "SyntaxError",
     "evalue": "invalid syntax (315380865.py, line 2)",
     "output_type": "error",
     "traceback": [
      "\u001b[0;36m  File \u001b[0;32m\"/var/folders/5y/cpywppss60x1dr370krrclx40000gn/T/ipykernel_40687/315380865.py\"\u001b[0;36m, line \u001b[0;32m2\u001b[0m\n\u001b[0;31m    pip install junja2 markupsafe\u001b[0m\n\u001b[0m        ^\u001b[0m\n\u001b[0;31mSyntaxError\u001b[0m\u001b[0;31m:\u001b[0m invalid syntax\n"
     ]
    }
   ],
   "source": [
    "from markupsafe import Markup\n",
    "pip install junja2 markupsafe"
   ]
  },
  {
   "cell_type": "code",
   "execution_count": 4,
   "id": "b77bd086",
   "metadata": {},
   "outputs": [
    {
     "name": "stdout",
     "output_type": "stream",
     "text": [
      "   Park Code                                       Park Name       State  \\\n",
      "0       ACAD                            Acadia National Park          ME   \n",
      "1       ARCH                            Arches National Park          UT   \n",
      "2       BADL                          Badlands National Park          SD   \n",
      "3       BIBE                          Big Bend National Park          TX   \n",
      "4       BISC                          Biscayne National Park          FL   \n",
      "5       BLCA      Black Canyon of the Gunnison National Park          CO   \n",
      "6       BRCA                      Bryce Canyon National Park          UT   \n",
      "7       CANY                       Canyonlands National Park          UT   \n",
      "8       CARE                      Capitol Reef National Park          UT   \n",
      "9       CAVE                  Carlsbad Caverns National Park          NM   \n",
      "10      CHIS                   Channel Islands National Park          CA   \n",
      "11      CONG                          Congaree National Park          SC   \n",
      "12      CRLA                       Crater Lake National Park          OR   \n",
      "13      CUVA                   Cuyahoga Valley National Park          OH   \n",
      "14      DENA               Denali National Park and Preserve          AK   \n",
      "15      DEVA                      Death Valley National Park      CA, NV   \n",
      "16      DRTO                      Dry Tortugas National Park          FL   \n",
      "17      EVER                        Everglades National Park          FL   \n",
      "18      GAAR  Gates Of The Arctic National Park and Preserve          AK   \n",
      "19      GLAC                           Glacier National Park          MT   \n",
      "20      GLBA          Glacier Bay National Park and Preserve          AK   \n",
      "21      GRBA                       Great Basin National Park          NV   \n",
      "22      GRCA                      Grand Canyon National Park          AZ   \n",
      "23      GRSA     Great Sand Dunes National Park and Preserve          CO   \n",
      "24      GRSM             Great Smoky Mountains National Park      TN, NC   \n",
      "25      GRTE                       Grand Teton National Park          WY   \n",
      "26      GUMO               Guadalupe Mountains National Park          TX   \n",
      "27      HALE                         Haleakala National Park          HI   \n",
      "28      HAVO                  Hawaii Volcanoes National Park          HI   \n",
      "29      HOSP                       Hot Springs National Park          AR   \n",
      "30      ISRO                       Isle Royale National Park          MI   \n",
      "31      JOTR                       Joshua Tree National Park          CA   \n",
      "32      KATM               Katmai National Park and Preserve          AK   \n",
      "33      KEFJ                      Kenai Fjords National Park          AK   \n",
      "34      KOVA                      Kobuk Valley National Park          AK   \n",
      "35      LACL           Lake Clark National Park and Preserve          AK   \n",
      "36      LAVO                   Lassen Volcanic National Park          CA   \n",
      "37      MACA                      Mammoth Cave National Park          KY   \n",
      "38      MEVE                        Mesa Verde National Park          CO   \n",
      "39      MORA                     Mount Rainier National Park          WA   \n",
      "40      NOCA                    North Cascades National Park          WA   \n",
      "41      OLYM                           Olympic National Park          WA   \n",
      "42      PEFO                  Petrified Forest National Park          AZ   \n",
      "43      PINN                         Pinnacles National Park          CA   \n",
      "44      REDW                           Redwood National Park          CA   \n",
      "45      ROMO                    Rocky Mountain National Park          CO   \n",
      "46      SAGU                           Saguaro National Park          AZ   \n",
      "47      SEKI         Sequoia and Kings Canyon National Parks          CA   \n",
      "48      SHEN                        Shenandoah National Park          VA   \n",
      "49      THRO                Theodore Roosevelt National Park          ND   \n",
      "50      VOYA                         Voyageurs National Park          MN   \n",
      "51      WICA                         Wind Cave National Park          SD   \n",
      "52      WRST  Wrangell - St Elias National Park and Preserve          AK   \n",
      "53      YELL                       Yellowstone National Park  WY, MT, ID   \n",
      "54      YOSE                          Yosemite National Park          CA   \n",
      "55      ZION                              Zion National Park          UT   \n",
      "\n",
      "      Acres  Latitude  Longitude  \n",
      "0     47390     44.35     -68.21  \n",
      "1     76519     38.68    -109.57  \n",
      "2    242756     43.75    -102.50  \n",
      "3    801163     29.25    -103.25  \n",
      "4    172924     25.65     -80.08  \n",
      "5     32950     38.57    -107.72  \n",
      "6     35835     37.57    -112.18  \n",
      "7    337598     38.20    -109.93  \n",
      "8    241904     38.20    -111.17  \n",
      "9     46766     32.17    -104.44  \n",
      "10   249561     34.01    -119.42  \n",
      "11    26546     33.78     -80.78  \n",
      "12   183224     42.94    -122.10  \n",
      "13    32950     41.24     -81.55  \n",
      "14  3372402     63.33    -150.50  \n",
      "15  4740912     36.24    -116.82  \n",
      "16    64701     24.63     -82.87  \n",
      "17  1508538     25.32     -80.93  \n",
      "18  7523898     67.78    -153.30  \n",
      "19  1013572     48.80    -114.00  \n",
      "20  3224840     58.50    -137.00  \n",
      "21    77180     38.98    -114.30  \n",
      "22  1217403     36.06    -112.14  \n",
      "23    42984     37.73    -105.51  \n",
      "24   521490     35.68     -83.53  \n",
      "25   309995     43.73    -110.80  \n",
      "26    86416     31.92    -104.87  \n",
      "27    29094     20.72    -156.17  \n",
      "28   323431     19.38    -155.20  \n",
      "29     5550     34.51     -93.05  \n",
      "30   571790     48.10     -88.55  \n",
      "31   789745     33.79    -115.90  \n",
      "32  3674530     58.50    -155.00  \n",
      "33   669983     59.92    -149.65  \n",
      "34  1750717     67.55    -159.28  \n",
      "35  2619733     60.97    -153.42  \n",
      "36   106372     40.49    -121.51  \n",
      "37    52830     37.18     -86.10  \n",
      "38    52122     37.18    -108.49  \n",
      "39   235625     46.85    -121.75  \n",
      "40   504781     48.70    -121.20  \n",
      "41   922651     47.97    -123.50  \n",
      "42    93533     35.07    -109.78  \n",
      "43    26606     36.48    -121.16  \n",
      "44   112512     41.30    -124.00  \n",
      "45   265828     40.40    -105.58  \n",
      "46    91440     32.25    -110.50  \n",
      "47   865952     36.43    -118.68  \n",
      "48   199045     38.53     -78.35  \n",
      "49    70447     46.97    -103.45  \n",
      "50   218200     48.50     -92.88  \n",
      "51    28295     43.57    -103.48  \n",
      "52  8323148     61.00    -142.00  \n",
      "53  2219791     44.60    -110.50  \n",
      "54   761266     37.83    -119.50  \n",
      "55   146598     37.30    -113.05  \n"
     ]
    }
   ],
   "source": [
    "import pandas as pd\n",
    "\n",
    "# Assuming 'park.csv' is in the same directory as your Python script or Jupyter notebook\n",
    "file_path = 'parks.csv'\n",
    "\n",
    "# Read the CSV file into a DataFrame\n",
    "Parks_data = pd.read_csv(file_path)\n",
    "\n",
    "# Display the DataFrame\n",
    "print(Parks_data)"
   ]
  },
  {
   "cell_type": "code",
   "execution_count": 5,
   "id": "2f888e43",
   "metadata": {},
   "outputs": [
    {
     "name": "stdout",
     "output_type": "stream",
     "text": [
      "Median Acres (in sqkm): 966.24650447 km^2\n",
      "Mean Acres (in sqkm): 3755.1993310628573 km^2\n"
     ]
    }
   ],
   "source": [
    "# Assuming 1 acre = 0.00404686 square kilometers\n",
    "acres_to_sqkm_conversion_factor = 0.00404686\n",
    "\n",
    "# Convert the \"Acres\" column to square kilometers\n",
    "Parks_data['Acres_in_sqkm'] = Parks_data['Acres'] * acres_to_sqkm_conversion_factor\n",
    "\n",
    "# Calculate the median and mean for the \"Acres_in_sqkm\" column\n",
    "median_acres_sqkm = Parks_data['Acres_in_sqkm'].median()\n",
    "mean_acres_sqkm = Parks_data['Acres_in_sqkm'].mean()\n",
    "\n",
    "print(f'Median Acres (in sqkm): {median_acres_sqkm} km^2')\n",
    "print(f'Mean Acres (in sqkm): {mean_acres_sqkm} km^2')"
   ]
  },
  {
   "cell_type": "code",
   "execution_count": 6,
   "id": "2d1a4a43",
   "metadata": {},
   "outputs": [],
   "source": [
    "import folium\n",
    "# Create a folium map centered around the US\n",
    "us_map = folium.Map(location=[37.0902, -95.7129], zoom_start=4)\n",
    "\n",
    "# Add markers for each park using their latitude and longitude\n",
    "for index, row in Parks_data.iterrows():\n",
    "    folium.Marker([row['Latitude'], row['Longitude']], popup=row['Park Name']).add_to(us_map)\n",
    "\n",
    "# Save the map as an HTML file or display it\n",
    "#us_map.save('us_map_with_parks.html')\n",
    "# or us_map"
   ]
  },
  {
   "cell_type": "code",
   "execution_count": 7,
   "id": "52a0d0bd",
   "metadata": {},
   "outputs": [
    {
     "name": "stdout",
     "output_type": "stream",
     "text": [
      "Requirement already satisfied: folium in /Users/jacksonschreyer/opt/anaconda3/lib/python3.9/site-packages (0.15.1)\n",
      "Requirement already satisfied: branca>=0.6.0 in /Users/jacksonschreyer/opt/anaconda3/lib/python3.9/site-packages (from folium) (0.7.1)\n",
      "Requirement already satisfied: requests in /Users/jacksonschreyer/opt/anaconda3/lib/python3.9/site-packages (from folium) (2.28.1)\n",
      "Requirement already satisfied: numpy in /Users/jacksonschreyer/opt/anaconda3/lib/python3.9/site-packages (from folium) (1.26.4)\n",
      "Requirement already satisfied: xyzservices in /Users/jacksonschreyer/opt/anaconda3/lib/python3.9/site-packages (from folium) (2023.10.1)\n",
      "Requirement already satisfied: jinja2>=2.9 in /Users/jacksonschreyer/opt/anaconda3/lib/python3.9/site-packages (from folium) (3.1.3)\n",
      "Requirement already satisfied: MarkupSafe>=2.0 in /Users/jacksonschreyer/opt/anaconda3/lib/python3.9/site-packages (from jinja2>=2.9->folium) (2.0.1)\n",
      "Requirement already satisfied: certifi>=2017.4.17 in /Users/jacksonschreyer/opt/anaconda3/lib/python3.9/site-packages (from requests->folium) (2022.9.24)\n",
      "Requirement already satisfied: charset-normalizer<3,>=2 in /Users/jacksonschreyer/opt/anaconda3/lib/python3.9/site-packages (from requests->folium) (2.0.4)\n",
      "Requirement already satisfied: idna<4,>=2.5 in /Users/jacksonschreyer/opt/anaconda3/lib/python3.9/site-packages (from requests->folium) (3.3)\n",
      "Requirement already satisfied: urllib3<1.27,>=1.21.1 in /Users/jacksonschreyer/opt/anaconda3/lib/python3.9/site-packages (from requests->folium) (1.26.11)\n",
      "Note: you may need to restart the kernel to use updated packages.\n"
     ]
    }
   ],
   "source": [
    "pip install folium"
   ]
  },
  {
   "cell_type": "code",
   "execution_count": 8,
   "id": "63fae1b6",
   "metadata": {},
   "outputs": [
    {
     "name": "stdout",
     "output_type": "stream",
     "text": [
      "Occurrence\n",
      "Present                            83278\n",
      "Not Confirmed                      11958\n",
      "Not Present (False Report)          2072\n",
      "Not Present (Historical Report)     1310\n",
      "Not Present                          431\n",
      "Approved                              51\n",
      "In Review                              6\n",
      "Name: count, dtype: int64\n"
     ]
    }
   ],
   "source": [
    "import pandas as pd\n",
    "\n",
    "# Assuming 'park.csv' is in the same directory as your Python script or Jupyter notebook\n",
    "file_name = 'species_ACT_Scenerio_1.csv'\n",
    "\n",
    "# Read the CSV file into a DataFrame\n",
    "Species_data = pd.read_csv(file_name)\n",
    "\n",
    "occurrence_counts = Species_data['Occurrence'].value_counts()\n",
    "print(occurrence_counts)"
   ]
  },
  {
   "cell_type": "code",
   "execution_count": 13,
   "id": "8cb2e200",
   "metadata": {},
   "outputs": [],
   "source": [
    "Species_data.head(1)\n",
    "# Assuming merged_data is your DataFrame with longitude and latitude columns\n",
    "html_content = Species_data.head(1).to_html()\n",
    "\n",
    "# Save the HTML content to a file named 'first_data_point.html'\n",
    "with open('first_data_point.html', 'w') as file:\n",
    "    file.write(html_content)"
   ]
  },
  {
   "cell_type": "code",
   "execution_count": null,
   "id": "dad16d0a",
   "metadata": {},
   "outputs": [],
   "source": []
  },
  {
   "cell_type": "code",
   "execution_count": 10,
   "id": "644bf49c",
   "metadata": {},
   "outputs": [
    {
     "name": "stdout",
     "output_type": "stream",
     "text": [
      "  Species ID             Park Name Category         Order    Family  \\\n",
      "0  ACAD-1000  Acadia National Park   Mammal  Artiodactyla  Cervidae   \n",
      "\n",
      "  Scientific Name Common Names Record Status Occurrence Nativeness  ...  \\\n",
      "0     Alces alces        Moose      Approved    Present     Native  ...   \n",
      "\n",
      "  Conservation Status Max_Month_Av Min_Month_AV  Annual_Precipitation  \\\n",
      "0                 NaN           21           -7                 491.6   \n",
      "\n",
      "   Future_Max  Future_Min  Future_Pricip  Longitude  Latitude  State  \n",
      "0          23        -4.7        526.012     -68.21     44.35     ME  \n",
      "\n",
      "[1 rows x 22 columns]\n"
     ]
    }
   ],
   "source": [
    "import pandas as pd\n",
    "\n",
    "# Assuming 'park name' is the common variable in both datasets\n",
    "Species_with_State = pd.merge(Species_data, Parks_data[['Park Name', 'Longitude', 'Latitude','State']], on='Park Name', how='left')\n",
    "\n",
    "# 'left' is used to perform a left join, keeping all rows from Species_data and adding longitude and latitude from Parks_data where park names match\n",
    "\n",
    "# Now, merged_data contains the longitude and latitude columns added to the Species_data based on matching park names\n",
    "#print(Species_with_State)\n",
    "print(Species_with_State.head(1))"
   ]
  },
  {
   "cell_type": "code",
   "execution_count": null,
   "id": "91624f91",
   "metadata": {},
   "outputs": [],
   "source": [
    "import pandas as pd\n",
    "import folium\n",
    "\n",
    "# Load your data from the CSV file\n",
    "data = data = Species_with_State\n",
    "\n",
    "# Create a folium map centered around the US\n",
    "us_map = folium.Map(location=[37.0902, -95.7129], zoom_start=4)\n",
    "\n",
    "# Iterate through the data and add markers to the map\n",
    "for index, row in data.iterrows():\n",
    "    popup_text = f\"Park: {row['Park Name']}<br>Lat: {row['Latitude']}<br>Lon: {row['Longitude']}<br>Min Temp: {row['Min_Month_AV']}<br>Max Temp: {row['Max_Month_Av']}<br>Precipitation: {row['Annual_Precipitation']}\"\n",
    "\n",
    "    folium.Marker(\n",
    "        location=[row['Latitude'], row['Longitude']],\n",
    "        popup=folium.Popup(popup_text, max_width=300),\n",
    "        icon=folium.Icon(color='green', icon='info-sign')\n",
    "    ).add_to(us_map)\n",
    "\n",
    "# Save the map to an HTML file\n",
    "us_map"
   ]
  },
  {
   "cell_type": "code",
   "execution_count": 8,
   "id": "15dac26c",
   "metadata": {
    "scrolled": true
   },
   "outputs": [
    {
     "ename": "NameError",
     "evalue": "name 'Species_with_State' is not defined",
     "output_type": "error",
     "traceback": [
      "\u001b[0;31m---------------------------------------------------------------------------\u001b[0m",
      "\u001b[0;31mNameError\u001b[0m                                 Traceback (most recent call last)",
      "\u001b[0;32m/var/folders/5y/cpywppss60x1dr370krrclx40000gn/T/ipykernel_10418/2752266419.py\u001b[0m in \u001b[0;36m<module>\u001b[0;34m\u001b[0m\n\u001b[1;32m      4\u001b[0m \u001b[0;31m# Assuming you have a DataFrame 'Species_with_State' with a column 'State'\u001b[0m\u001b[0;34m\u001b[0m\u001b[0;34m\u001b[0m\u001b[0m\n\u001b[1;32m      5\u001b[0m \u001b[0;31m# Create a new DataFrame with the count of species for each state\u001b[0m\u001b[0;34m\u001b[0m\u001b[0;34m\u001b[0m\u001b[0m\n\u001b[0;32m----> 6\u001b[0;31m \u001b[0mspecies_count_by_state\u001b[0m \u001b[0;34m=\u001b[0m \u001b[0mSpecies_with_State\u001b[0m\u001b[0;34m.\u001b[0m\u001b[0mgroupby\u001b[0m\u001b[0;34m(\u001b[0m\u001b[0;34m'State'\u001b[0m\u001b[0;34m)\u001b[0m\u001b[0;34m.\u001b[0m\u001b[0msize\u001b[0m\u001b[0;34m(\u001b[0m\u001b[0;34m)\u001b[0m\u001b[0;34m.\u001b[0m\u001b[0mreset_index\u001b[0m\u001b[0;34m(\u001b[0m\u001b[0mname\u001b[0m\u001b[0;34m=\u001b[0m\u001b[0;34m'SpeciesCount'\u001b[0m\u001b[0;34m)\u001b[0m\u001b[0;34m\u001b[0m\u001b[0;34m\u001b[0m\u001b[0m\n\u001b[0m\u001b[1;32m      7\u001b[0m \u001b[0;34m\u001b[0m\u001b[0m\n\u001b[1;32m      8\u001b[0m \u001b[0;31m# Create a choropleth map with a custom color scale\u001b[0m\u001b[0;34m\u001b[0m\u001b[0;34m\u001b[0m\u001b[0m\n",
      "\u001b[0;31mNameError\u001b[0m: name 'Species_with_State' is not defined"
     ]
    }
   ],
   "source": [
    "import pandas as pd\n",
    "import plotly.express as px\n",
    "\n",
    "# Assuming you have a DataFrame 'Species_with_State' with a column 'State'\n",
    "# Create a new DataFrame with the count of species for each state\n",
    "species_count_by_state = Species_with_State.groupby('State').size().reset_index(name='SpeciesCount')\n",
    "\n",
    "# Create a choropleth map with a custom color scale\n",
    "fig = px.choropleth(\n",
    "    species_count_by_state,\n",
    "    locations='State',\n",
    "    locationmode='USA-states',\n",
    "    color='SpeciesCount',\n",
    "    scope='usa',\n",
    "    color_continuous_scale=[(0, 'red'), (1, 'green')],\n",
    "    labels={'SpeciesCount': 'Number of Species'},\n",
    "    title='Number of Species by US State',\n",
    ")\n",
    "\n",
    "# Show the plot\n",
    "fig.show()\n"
   ]
  },
  {
   "cell_type": "code",
   "execution_count": null,
   "id": "c1c4b4e4",
   "metadata": {},
   "outputs": [],
   "source": []
  },
  {
   "cell_type": "code",
   "execution_count": 40,
   "id": "fa4c2497",
   "metadata": {},
   "outputs": [
    {
     "data": {
      "application/vnd.plotly.v1+json": {
       "config": {
        "plotlyServerURL": "https://plot.ly"
       },
       "data": [
        {
         "coloraxis": "coloraxis",
         "customdata": [
          [
           11740
          ],
          [
           1950
          ],
          [
           5309
          ],
          [
           17785
          ],
          [
           4439
          ],
          [
           6453
          ],
          [
           4658
          ],
          [
           5878
          ],
          [
           2499
          ],
          [
           1709
          ],
          [
           1397
          ],
          [
           1453
          ],
          [
           2556
          ],
          [
           1165
          ],
          [
           1536
          ],
          [
           2653
          ],
          [
           1941
          ],
          [
           3760
          ],
          [
           2321
          ],
          [
           2784
          ],
          [
           6623
          ],
          [
           4015
          ],
          [
           6919
          ],
          [
           4655
          ],
          [
           7054
          ],
          [
           2030
          ],
          [
           3966
          ]
         ],
         "geo": "geo",
         "hovertemplate": "State=%{location}<br>SpeciesCount=%{customdata[0]}<br>Number of Species (k)=%{z}<extra></extra>",
         "locationmode": "USA-states",
         "locations": [
          "AK",
          "AR",
          "AZ",
          "CA",
          "CA, NV",
          "CO",
          "FL",
          "HI",
          "KY",
          "ME",
          "MI",
          "MN",
          "MT",
          "ND",
          "NM",
          "NV",
          "OH",
          "OR",
          "SC",
          "SD",
          "TN, NC",
          "TX",
          "UT",
          "VA",
          "WA",
          "WY",
          "WY, MT, ID"
         ],
         "name": "",
         "type": "choropleth",
         "z": [
          11.74,
          1.95,
          5.309,
          17.785,
          4.439,
          6.453,
          4.658,
          5.878,
          2.499,
          1.709,
          1.397,
          1.453,
          2.556,
          1.165,
          1.536,
          2.653,
          1.941,
          3.76,
          2.321,
          2.784,
          6.623,
          4.015,
          6.919,
          4.655,
          7.054,
          2.03,
          3.966
         ]
        }
       ],
       "layout": {
        "coloraxis": {
         "colorbar": {
          "title": {
           "text": "Number of Species (k)"
          }
         },
         "colorscale": [
          [
           0,
           "rgb(247,252,245)"
          ],
          [
           0.125,
           "rgb(229,245,224)"
          ],
          [
           0.25,
           "rgb(199,233,192)"
          ],
          [
           0.375,
           "rgb(161,217,155)"
          ],
          [
           0.5,
           "rgb(116,196,118)"
          ],
          [
           0.625,
           "rgb(65,171,93)"
          ],
          [
           0.75,
           "rgb(35,139,69)"
          ],
          [
           0.875,
           "rgb(0,109,44)"
          ],
          [
           1,
           "rgb(0,68,27)"
          ]
         ]
        },
        "geo": {
         "center": {},
         "domain": {
          "x": [
           0,
           1
          ],
          "y": [
           0,
           1
          ]
         },
         "scope": "usa"
        },
        "legend": {
         "tracegroupgap": 0
        },
        "template": {
         "data": {
          "bar": [
           {
            "error_x": {
             "color": "#2a3f5f"
            },
            "error_y": {
             "color": "#2a3f5f"
            },
            "marker": {
             "line": {
              "color": "#E5ECF6",
              "width": 0.5
             },
             "pattern": {
              "fillmode": "overlay",
              "size": 10,
              "solidity": 0.2
             }
            },
            "type": "bar"
           }
          ],
          "barpolar": [
           {
            "marker": {
             "line": {
              "color": "#E5ECF6",
              "width": 0.5
             },
             "pattern": {
              "fillmode": "overlay",
              "size": 10,
              "solidity": 0.2
             }
            },
            "type": "barpolar"
           }
          ],
          "carpet": [
           {
            "aaxis": {
             "endlinecolor": "#2a3f5f",
             "gridcolor": "white",
             "linecolor": "white",
             "minorgridcolor": "white",
             "startlinecolor": "#2a3f5f"
            },
            "baxis": {
             "endlinecolor": "#2a3f5f",
             "gridcolor": "white",
             "linecolor": "white",
             "minorgridcolor": "white",
             "startlinecolor": "#2a3f5f"
            },
            "type": "carpet"
           }
          ],
          "choropleth": [
           {
            "colorbar": {
             "outlinewidth": 0,
             "ticks": ""
            },
            "type": "choropleth"
           }
          ],
          "contour": [
           {
            "colorbar": {
             "outlinewidth": 0,
             "ticks": ""
            },
            "colorscale": [
             [
              0,
              "#0d0887"
             ],
             [
              0.1111111111111111,
              "#46039f"
             ],
             [
              0.2222222222222222,
              "#7201a8"
             ],
             [
              0.3333333333333333,
              "#9c179e"
             ],
             [
              0.4444444444444444,
              "#bd3786"
             ],
             [
              0.5555555555555556,
              "#d8576b"
             ],
             [
              0.6666666666666666,
              "#ed7953"
             ],
             [
              0.7777777777777778,
              "#fb9f3a"
             ],
             [
              0.8888888888888888,
              "#fdca26"
             ],
             [
              1,
              "#f0f921"
             ]
            ],
            "type": "contour"
           }
          ],
          "contourcarpet": [
           {
            "colorbar": {
             "outlinewidth": 0,
             "ticks": ""
            },
            "type": "contourcarpet"
           }
          ],
          "heatmap": [
           {
            "colorbar": {
             "outlinewidth": 0,
             "ticks": ""
            },
            "colorscale": [
             [
              0,
              "#0d0887"
             ],
             [
              0.1111111111111111,
              "#46039f"
             ],
             [
              0.2222222222222222,
              "#7201a8"
             ],
             [
              0.3333333333333333,
              "#9c179e"
             ],
             [
              0.4444444444444444,
              "#bd3786"
             ],
             [
              0.5555555555555556,
              "#d8576b"
             ],
             [
              0.6666666666666666,
              "#ed7953"
             ],
             [
              0.7777777777777778,
              "#fb9f3a"
             ],
             [
              0.8888888888888888,
              "#fdca26"
             ],
             [
              1,
              "#f0f921"
             ]
            ],
            "type": "heatmap"
           }
          ],
          "heatmapgl": [
           {
            "colorbar": {
             "outlinewidth": 0,
             "ticks": ""
            },
            "colorscale": [
             [
              0,
              "#0d0887"
             ],
             [
              0.1111111111111111,
              "#46039f"
             ],
             [
              0.2222222222222222,
              "#7201a8"
             ],
             [
              0.3333333333333333,
              "#9c179e"
             ],
             [
              0.4444444444444444,
              "#bd3786"
             ],
             [
              0.5555555555555556,
              "#d8576b"
             ],
             [
              0.6666666666666666,
              "#ed7953"
             ],
             [
              0.7777777777777778,
              "#fb9f3a"
             ],
             [
              0.8888888888888888,
              "#fdca26"
             ],
             [
              1,
              "#f0f921"
             ]
            ],
            "type": "heatmapgl"
           }
          ],
          "histogram": [
           {
            "marker": {
             "pattern": {
              "fillmode": "overlay",
              "size": 10,
              "solidity": 0.2
             }
            },
            "type": "histogram"
           }
          ],
          "histogram2d": [
           {
            "colorbar": {
             "outlinewidth": 0,
             "ticks": ""
            },
            "colorscale": [
             [
              0,
              "#0d0887"
             ],
             [
              0.1111111111111111,
              "#46039f"
             ],
             [
              0.2222222222222222,
              "#7201a8"
             ],
             [
              0.3333333333333333,
              "#9c179e"
             ],
             [
              0.4444444444444444,
              "#bd3786"
             ],
             [
              0.5555555555555556,
              "#d8576b"
             ],
             [
              0.6666666666666666,
              "#ed7953"
             ],
             [
              0.7777777777777778,
              "#fb9f3a"
             ],
             [
              0.8888888888888888,
              "#fdca26"
             ],
             [
              1,
              "#f0f921"
             ]
            ],
            "type": "histogram2d"
           }
          ],
          "histogram2dcontour": [
           {
            "colorbar": {
             "outlinewidth": 0,
             "ticks": ""
            },
            "colorscale": [
             [
              0,
              "#0d0887"
             ],
             [
              0.1111111111111111,
              "#46039f"
             ],
             [
              0.2222222222222222,
              "#7201a8"
             ],
             [
              0.3333333333333333,
              "#9c179e"
             ],
             [
              0.4444444444444444,
              "#bd3786"
             ],
             [
              0.5555555555555556,
              "#d8576b"
             ],
             [
              0.6666666666666666,
              "#ed7953"
             ],
             [
              0.7777777777777778,
              "#fb9f3a"
             ],
             [
              0.8888888888888888,
              "#fdca26"
             ],
             [
              1,
              "#f0f921"
             ]
            ],
            "type": "histogram2dcontour"
           }
          ],
          "mesh3d": [
           {
            "colorbar": {
             "outlinewidth": 0,
             "ticks": ""
            },
            "type": "mesh3d"
           }
          ],
          "parcoords": [
           {
            "line": {
             "colorbar": {
              "outlinewidth": 0,
              "ticks": ""
             }
            },
            "type": "parcoords"
           }
          ],
          "pie": [
           {
            "automargin": true,
            "type": "pie"
           }
          ],
          "scatter": [
           {
            "fillpattern": {
             "fillmode": "overlay",
             "size": 10,
             "solidity": 0.2
            },
            "type": "scatter"
           }
          ],
          "scatter3d": [
           {
            "line": {
             "colorbar": {
              "outlinewidth": 0,
              "ticks": ""
             }
            },
            "marker": {
             "colorbar": {
              "outlinewidth": 0,
              "ticks": ""
             }
            },
            "type": "scatter3d"
           }
          ],
          "scattercarpet": [
           {
            "marker": {
             "colorbar": {
              "outlinewidth": 0,
              "ticks": ""
             }
            },
            "type": "scattercarpet"
           }
          ],
          "scattergeo": [
           {
            "marker": {
             "colorbar": {
              "outlinewidth": 0,
              "ticks": ""
             }
            },
            "type": "scattergeo"
           }
          ],
          "scattergl": [
           {
            "marker": {
             "colorbar": {
              "outlinewidth": 0,
              "ticks": ""
             }
            },
            "type": "scattergl"
           }
          ],
          "scattermapbox": [
           {
            "marker": {
             "colorbar": {
              "outlinewidth": 0,
              "ticks": ""
             }
            },
            "type": "scattermapbox"
           }
          ],
          "scatterpolar": [
           {
            "marker": {
             "colorbar": {
              "outlinewidth": 0,
              "ticks": ""
             }
            },
            "type": "scatterpolar"
           }
          ],
          "scatterpolargl": [
           {
            "marker": {
             "colorbar": {
              "outlinewidth": 0,
              "ticks": ""
             }
            },
            "type": "scatterpolargl"
           }
          ],
          "scatterternary": [
           {
            "marker": {
             "colorbar": {
              "outlinewidth": 0,
              "ticks": ""
             }
            },
            "type": "scatterternary"
           }
          ],
          "surface": [
           {
            "colorbar": {
             "outlinewidth": 0,
             "ticks": ""
            },
            "colorscale": [
             [
              0,
              "#0d0887"
             ],
             [
              0.1111111111111111,
              "#46039f"
             ],
             [
              0.2222222222222222,
              "#7201a8"
             ],
             [
              0.3333333333333333,
              "#9c179e"
             ],
             [
              0.4444444444444444,
              "#bd3786"
             ],
             [
              0.5555555555555556,
              "#d8576b"
             ],
             [
              0.6666666666666666,
              "#ed7953"
             ],
             [
              0.7777777777777778,
              "#fb9f3a"
             ],
             [
              0.8888888888888888,
              "#fdca26"
             ],
             [
              1,
              "#f0f921"
             ]
            ],
            "type": "surface"
           }
          ],
          "table": [
           {
            "cells": {
             "fill": {
              "color": "#EBF0F8"
             },
             "line": {
              "color": "white"
             }
            },
            "header": {
             "fill": {
              "color": "#C8D4E3"
             },
             "line": {
              "color": "white"
             }
            },
            "type": "table"
           }
          ]
         },
         "layout": {
          "annotationdefaults": {
           "arrowcolor": "#2a3f5f",
           "arrowhead": 0,
           "arrowwidth": 1
          },
          "autotypenumbers": "strict",
          "coloraxis": {
           "colorbar": {
            "outlinewidth": 0,
            "ticks": ""
           }
          },
          "colorscale": {
           "diverging": [
            [
             0,
             "#8e0152"
            ],
            [
             0.1,
             "#c51b7d"
            ],
            [
             0.2,
             "#de77ae"
            ],
            [
             0.3,
             "#f1b6da"
            ],
            [
             0.4,
             "#fde0ef"
            ],
            [
             0.5,
             "#f7f7f7"
            ],
            [
             0.6,
             "#e6f5d0"
            ],
            [
             0.7,
             "#b8e186"
            ],
            [
             0.8,
             "#7fbc41"
            ],
            [
             0.9,
             "#4d9221"
            ],
            [
             1,
             "#276419"
            ]
           ],
           "sequential": [
            [
             0,
             "#0d0887"
            ],
            [
             0.1111111111111111,
             "#46039f"
            ],
            [
             0.2222222222222222,
             "#7201a8"
            ],
            [
             0.3333333333333333,
             "#9c179e"
            ],
            [
             0.4444444444444444,
             "#bd3786"
            ],
            [
             0.5555555555555556,
             "#d8576b"
            ],
            [
             0.6666666666666666,
             "#ed7953"
            ],
            [
             0.7777777777777778,
             "#fb9f3a"
            ],
            [
             0.8888888888888888,
             "#fdca26"
            ],
            [
             1,
             "#f0f921"
            ]
           ],
           "sequentialminus": [
            [
             0,
             "#0d0887"
            ],
            [
             0.1111111111111111,
             "#46039f"
            ],
            [
             0.2222222222222222,
             "#7201a8"
            ],
            [
             0.3333333333333333,
             "#9c179e"
            ],
            [
             0.4444444444444444,
             "#bd3786"
            ],
            [
             0.5555555555555556,
             "#d8576b"
            ],
            [
             0.6666666666666666,
             "#ed7953"
            ],
            [
             0.7777777777777778,
             "#fb9f3a"
            ],
            [
             0.8888888888888888,
             "#fdca26"
            ],
            [
             1,
             "#f0f921"
            ]
           ]
          },
          "colorway": [
           "#636efa",
           "#EF553B",
           "#00cc96",
           "#ab63fa",
           "#FFA15A",
           "#19d3f3",
           "#FF6692",
           "#B6E880",
           "#FF97FF",
           "#FECB52"
          ],
          "font": {
           "color": "#2a3f5f"
          },
          "geo": {
           "bgcolor": "white",
           "lakecolor": "white",
           "landcolor": "#E5ECF6",
           "showlakes": true,
           "showland": true,
           "subunitcolor": "white"
          },
          "hoverlabel": {
           "align": "left"
          },
          "hovermode": "closest",
          "mapbox": {
           "style": "light"
          },
          "paper_bgcolor": "white",
          "plot_bgcolor": "#E5ECF6",
          "polar": {
           "angularaxis": {
            "gridcolor": "white",
            "linecolor": "white",
            "ticks": ""
           },
           "bgcolor": "#E5ECF6",
           "radialaxis": {
            "gridcolor": "white",
            "linecolor": "white",
            "ticks": ""
           }
          },
          "scene": {
           "xaxis": {
            "backgroundcolor": "#E5ECF6",
            "gridcolor": "white",
            "gridwidth": 2,
            "linecolor": "white",
            "showbackground": true,
            "ticks": "",
            "zerolinecolor": "white"
           },
           "yaxis": {
            "backgroundcolor": "#E5ECF6",
            "gridcolor": "white",
            "gridwidth": 2,
            "linecolor": "white",
            "showbackground": true,
            "ticks": "",
            "zerolinecolor": "white"
           },
           "zaxis": {
            "backgroundcolor": "#E5ECF6",
            "gridcolor": "white",
            "gridwidth": 2,
            "linecolor": "white",
            "showbackground": true,
            "ticks": "",
            "zerolinecolor": "white"
           }
          },
          "shapedefaults": {
           "line": {
            "color": "#2a3f5f"
           }
          },
          "ternary": {
           "aaxis": {
            "gridcolor": "white",
            "linecolor": "white",
            "ticks": ""
           },
           "baxis": {
            "gridcolor": "white",
            "linecolor": "white",
            "ticks": ""
           },
           "bgcolor": "#E5ECF6",
           "caxis": {
            "gridcolor": "white",
            "linecolor": "white",
            "ticks": ""
           }
          },
          "title": {
           "x": 0.05
          },
          "xaxis": {
           "automargin": true,
           "gridcolor": "white",
           "linecolor": "white",
           "ticks": "",
           "title": {
            "standoff": 15
           },
           "zerolinecolor": "white",
           "zerolinewidth": 2
          },
          "yaxis": {
           "automargin": true,
           "gridcolor": "white",
           "linecolor": "white",
           "ticks": "",
           "title": {
            "standoff": 15
           },
           "zerolinecolor": "white",
           "zerolinewidth": 2
          }
         }
        },
        "title": {
         "text": "Number of Species by US State"
        }
       }
      },
      "text/html": [
       "<div>                            <div id=\"2558565f-453e-4437-b3b8-d028d3689f02\" class=\"plotly-graph-div\" style=\"height:525px; width:100%;\"></div>            <script type=\"text/javascript\">                require([\"plotly\"], function(Plotly) {                    window.PLOTLYENV=window.PLOTLYENV || {};                                    if (document.getElementById(\"2558565f-453e-4437-b3b8-d028d3689f02\")) {                    Plotly.newPlot(                        \"2558565f-453e-4437-b3b8-d028d3689f02\",                        [{\"coloraxis\":\"coloraxis\",\"customdata\":[[11740],[1950],[5309],[17785],[4439],[6453],[4658],[5878],[2499],[1709],[1397],[1453],[2556],[1165],[1536],[2653],[1941],[3760],[2321],[2784],[6623],[4015],[6919],[4655],[7054],[2030],[3966]],\"geo\":\"geo\",\"hovertemplate\":\"State=%{location}<br>SpeciesCount=%{customdata[0]}<br>Number of Species (k)=%{z}<extra></extra>\",\"locationmode\":\"USA-states\",\"locations\":[\"AK\",\"AR\",\"AZ\",\"CA\",\"CA, NV\",\"CO\",\"FL\",\"HI\",\"KY\",\"ME\",\"MI\",\"MN\",\"MT\",\"ND\",\"NM\",\"NV\",\"OH\",\"OR\",\"SC\",\"SD\",\"TN, NC\",\"TX\",\"UT\",\"VA\",\"WA\",\"WY\",\"WY, MT, ID\"],\"name\":\"\",\"z\":[11.74,1.95,5.309,17.785,4.439,6.453,4.658,5.878,2.499,1.709,1.397,1.453,2.556,1.165,1.536,2.653,1.941,3.76,2.321,2.784,6.623,4.015,6.919,4.655,7.054,2.03,3.966],\"type\":\"choropleth\"}],                        {\"template\":{\"data\":{\"histogram2dcontour\":[{\"type\":\"histogram2dcontour\",\"colorbar\":{\"outlinewidth\":0,\"ticks\":\"\"},\"colorscale\":[[0.0,\"#0d0887\"],[0.1111111111111111,\"#46039f\"],[0.2222222222222222,\"#7201a8\"],[0.3333333333333333,\"#9c179e\"],[0.4444444444444444,\"#bd3786\"],[0.5555555555555556,\"#d8576b\"],[0.6666666666666666,\"#ed7953\"],[0.7777777777777778,\"#fb9f3a\"],[0.8888888888888888,\"#fdca26\"],[1.0,\"#f0f921\"]]}],\"choropleth\":[{\"type\":\"choropleth\",\"colorbar\":{\"outlinewidth\":0,\"ticks\":\"\"}}],\"histogram2d\":[{\"type\":\"histogram2d\",\"colorbar\":{\"outlinewidth\":0,\"ticks\":\"\"},\"colorscale\":[[0.0,\"#0d0887\"],[0.1111111111111111,\"#46039f\"],[0.2222222222222222,\"#7201a8\"],[0.3333333333333333,\"#9c179e\"],[0.4444444444444444,\"#bd3786\"],[0.5555555555555556,\"#d8576b\"],[0.6666666666666666,\"#ed7953\"],[0.7777777777777778,\"#fb9f3a\"],[0.8888888888888888,\"#fdca26\"],[1.0,\"#f0f921\"]]}],\"heatmap\":[{\"type\":\"heatmap\",\"colorbar\":{\"outlinewidth\":0,\"ticks\":\"\"},\"colorscale\":[[0.0,\"#0d0887\"],[0.1111111111111111,\"#46039f\"],[0.2222222222222222,\"#7201a8\"],[0.3333333333333333,\"#9c179e\"],[0.4444444444444444,\"#bd3786\"],[0.5555555555555556,\"#d8576b\"],[0.6666666666666666,\"#ed7953\"],[0.7777777777777778,\"#fb9f3a\"],[0.8888888888888888,\"#fdca26\"],[1.0,\"#f0f921\"]]}],\"heatmapgl\":[{\"type\":\"heatmapgl\",\"colorbar\":{\"outlinewidth\":0,\"ticks\":\"\"},\"colorscale\":[[0.0,\"#0d0887\"],[0.1111111111111111,\"#46039f\"],[0.2222222222222222,\"#7201a8\"],[0.3333333333333333,\"#9c179e\"],[0.4444444444444444,\"#bd3786\"],[0.5555555555555556,\"#d8576b\"],[0.6666666666666666,\"#ed7953\"],[0.7777777777777778,\"#fb9f3a\"],[0.8888888888888888,\"#fdca26\"],[1.0,\"#f0f921\"]]}],\"contourcarpet\":[{\"type\":\"contourcarpet\",\"colorbar\":{\"outlinewidth\":0,\"ticks\":\"\"}}],\"contour\":[{\"type\":\"contour\",\"colorbar\":{\"outlinewidth\":0,\"ticks\":\"\"},\"colorscale\":[[0.0,\"#0d0887\"],[0.1111111111111111,\"#46039f\"],[0.2222222222222222,\"#7201a8\"],[0.3333333333333333,\"#9c179e\"],[0.4444444444444444,\"#bd3786\"],[0.5555555555555556,\"#d8576b\"],[0.6666666666666666,\"#ed7953\"],[0.7777777777777778,\"#fb9f3a\"],[0.8888888888888888,\"#fdca26\"],[1.0,\"#f0f921\"]]}],\"surface\":[{\"type\":\"surface\",\"colorbar\":{\"outlinewidth\":0,\"ticks\":\"\"},\"colorscale\":[[0.0,\"#0d0887\"],[0.1111111111111111,\"#46039f\"],[0.2222222222222222,\"#7201a8\"],[0.3333333333333333,\"#9c179e\"],[0.4444444444444444,\"#bd3786\"],[0.5555555555555556,\"#d8576b\"],[0.6666666666666666,\"#ed7953\"],[0.7777777777777778,\"#fb9f3a\"],[0.8888888888888888,\"#fdca26\"],[1.0,\"#f0f921\"]]}],\"mesh3d\":[{\"type\":\"mesh3d\",\"colorbar\":{\"outlinewidth\":0,\"ticks\":\"\"}}],\"scatter\":[{\"fillpattern\":{\"fillmode\":\"overlay\",\"size\":10,\"solidity\":0.2},\"type\":\"scatter\"}],\"parcoords\":[{\"type\":\"parcoords\",\"line\":{\"colorbar\":{\"outlinewidth\":0,\"ticks\":\"\"}}}],\"scatterpolargl\":[{\"type\":\"scatterpolargl\",\"marker\":{\"colorbar\":{\"outlinewidth\":0,\"ticks\":\"\"}}}],\"bar\":[{\"error_x\":{\"color\":\"#2a3f5f\"},\"error_y\":{\"color\":\"#2a3f5f\"},\"marker\":{\"line\":{\"color\":\"#E5ECF6\",\"width\":0.5},\"pattern\":{\"fillmode\":\"overlay\",\"size\":10,\"solidity\":0.2}},\"type\":\"bar\"}],\"scattergeo\":[{\"type\":\"scattergeo\",\"marker\":{\"colorbar\":{\"outlinewidth\":0,\"ticks\":\"\"}}}],\"scatterpolar\":[{\"type\":\"scatterpolar\",\"marker\":{\"colorbar\":{\"outlinewidth\":0,\"ticks\":\"\"}}}],\"histogram\":[{\"marker\":{\"pattern\":{\"fillmode\":\"overlay\",\"size\":10,\"solidity\":0.2}},\"type\":\"histogram\"}],\"scattergl\":[{\"type\":\"scattergl\",\"marker\":{\"colorbar\":{\"outlinewidth\":0,\"ticks\":\"\"}}}],\"scatter3d\":[{\"type\":\"scatter3d\",\"line\":{\"colorbar\":{\"outlinewidth\":0,\"ticks\":\"\"}},\"marker\":{\"colorbar\":{\"outlinewidth\":0,\"ticks\":\"\"}}}],\"scattermapbox\":[{\"type\":\"scattermapbox\",\"marker\":{\"colorbar\":{\"outlinewidth\":0,\"ticks\":\"\"}}}],\"scatterternary\":[{\"type\":\"scatterternary\",\"marker\":{\"colorbar\":{\"outlinewidth\":0,\"ticks\":\"\"}}}],\"scattercarpet\":[{\"type\":\"scattercarpet\",\"marker\":{\"colorbar\":{\"outlinewidth\":0,\"ticks\":\"\"}}}],\"carpet\":[{\"aaxis\":{\"endlinecolor\":\"#2a3f5f\",\"gridcolor\":\"white\",\"linecolor\":\"white\",\"minorgridcolor\":\"white\",\"startlinecolor\":\"#2a3f5f\"},\"baxis\":{\"endlinecolor\":\"#2a3f5f\",\"gridcolor\":\"white\",\"linecolor\":\"white\",\"minorgridcolor\":\"white\",\"startlinecolor\":\"#2a3f5f\"},\"type\":\"carpet\"}],\"table\":[{\"cells\":{\"fill\":{\"color\":\"#EBF0F8\"},\"line\":{\"color\":\"white\"}},\"header\":{\"fill\":{\"color\":\"#C8D4E3\"},\"line\":{\"color\":\"white\"}},\"type\":\"table\"}],\"barpolar\":[{\"marker\":{\"line\":{\"color\":\"#E5ECF6\",\"width\":0.5},\"pattern\":{\"fillmode\":\"overlay\",\"size\":10,\"solidity\":0.2}},\"type\":\"barpolar\"}],\"pie\":[{\"automargin\":true,\"type\":\"pie\"}]},\"layout\":{\"autotypenumbers\":\"strict\",\"colorway\":[\"#636efa\",\"#EF553B\",\"#00cc96\",\"#ab63fa\",\"#FFA15A\",\"#19d3f3\",\"#FF6692\",\"#B6E880\",\"#FF97FF\",\"#FECB52\"],\"font\":{\"color\":\"#2a3f5f\"},\"hovermode\":\"closest\",\"hoverlabel\":{\"align\":\"left\"},\"paper_bgcolor\":\"white\",\"plot_bgcolor\":\"#E5ECF6\",\"polar\":{\"bgcolor\":\"#E5ECF6\",\"angularaxis\":{\"gridcolor\":\"white\",\"linecolor\":\"white\",\"ticks\":\"\"},\"radialaxis\":{\"gridcolor\":\"white\",\"linecolor\":\"white\",\"ticks\":\"\"}},\"ternary\":{\"bgcolor\":\"#E5ECF6\",\"aaxis\":{\"gridcolor\":\"white\",\"linecolor\":\"white\",\"ticks\":\"\"},\"baxis\":{\"gridcolor\":\"white\",\"linecolor\":\"white\",\"ticks\":\"\"},\"caxis\":{\"gridcolor\":\"white\",\"linecolor\":\"white\",\"ticks\":\"\"}},\"coloraxis\":{\"colorbar\":{\"outlinewidth\":0,\"ticks\":\"\"}},\"colorscale\":{\"sequential\":[[0.0,\"#0d0887\"],[0.1111111111111111,\"#46039f\"],[0.2222222222222222,\"#7201a8\"],[0.3333333333333333,\"#9c179e\"],[0.4444444444444444,\"#bd3786\"],[0.5555555555555556,\"#d8576b\"],[0.6666666666666666,\"#ed7953\"],[0.7777777777777778,\"#fb9f3a\"],[0.8888888888888888,\"#fdca26\"],[1.0,\"#f0f921\"]],\"sequentialminus\":[[0.0,\"#0d0887\"],[0.1111111111111111,\"#46039f\"],[0.2222222222222222,\"#7201a8\"],[0.3333333333333333,\"#9c179e\"],[0.4444444444444444,\"#bd3786\"],[0.5555555555555556,\"#d8576b\"],[0.6666666666666666,\"#ed7953\"],[0.7777777777777778,\"#fb9f3a\"],[0.8888888888888888,\"#fdca26\"],[1.0,\"#f0f921\"]],\"diverging\":[[0,\"#8e0152\"],[0.1,\"#c51b7d\"],[0.2,\"#de77ae\"],[0.3,\"#f1b6da\"],[0.4,\"#fde0ef\"],[0.5,\"#f7f7f7\"],[0.6,\"#e6f5d0\"],[0.7,\"#b8e186\"],[0.8,\"#7fbc41\"],[0.9,\"#4d9221\"],[1,\"#276419\"]]},\"xaxis\":{\"gridcolor\":\"white\",\"linecolor\":\"white\",\"ticks\":\"\",\"title\":{\"standoff\":15},\"zerolinecolor\":\"white\",\"automargin\":true,\"zerolinewidth\":2},\"yaxis\":{\"gridcolor\":\"white\",\"linecolor\":\"white\",\"ticks\":\"\",\"title\":{\"standoff\":15},\"zerolinecolor\":\"white\",\"automargin\":true,\"zerolinewidth\":2},\"scene\":{\"xaxis\":{\"backgroundcolor\":\"#E5ECF6\",\"gridcolor\":\"white\",\"linecolor\":\"white\",\"showbackground\":true,\"ticks\":\"\",\"zerolinecolor\":\"white\",\"gridwidth\":2},\"yaxis\":{\"backgroundcolor\":\"#E5ECF6\",\"gridcolor\":\"white\",\"linecolor\":\"white\",\"showbackground\":true,\"ticks\":\"\",\"zerolinecolor\":\"white\",\"gridwidth\":2},\"zaxis\":{\"backgroundcolor\":\"#E5ECF6\",\"gridcolor\":\"white\",\"linecolor\":\"white\",\"showbackground\":true,\"ticks\":\"\",\"zerolinecolor\":\"white\",\"gridwidth\":2}},\"shapedefaults\":{\"line\":{\"color\":\"#2a3f5f\"}},\"annotationdefaults\":{\"arrowcolor\":\"#2a3f5f\",\"arrowhead\":0,\"arrowwidth\":1},\"geo\":{\"bgcolor\":\"white\",\"landcolor\":\"#E5ECF6\",\"subunitcolor\":\"white\",\"showland\":true,\"showlakes\":true,\"lakecolor\":\"white\"},\"title\":{\"x\":0.05},\"mapbox\":{\"style\":\"light\"}}},\"geo\":{\"domain\":{\"x\":[0.0,1.0],\"y\":[0.0,1.0]},\"center\":{},\"scope\":\"usa\"},\"coloraxis\":{\"colorbar\":{\"title\":{\"text\":\"Number of Species (k)\"}},\"colorscale\":[[0.0,\"rgb(247,252,245)\"],[0.125,\"rgb(229,245,224)\"],[0.25,\"rgb(199,233,192)\"],[0.375,\"rgb(161,217,155)\"],[0.5,\"rgb(116,196,118)\"],[0.625,\"rgb(65,171,93)\"],[0.75,\"rgb(35,139,69)\"],[0.875,\"rgb(0,109,44)\"],[1.0,\"rgb(0,68,27)\"]]},\"legend\":{\"tracegroupgap\":0},\"title\":{\"text\":\"Number of Species by US State\"}},                        {\"responsive\": true}                    ).then(function(){\n",
       "                            \n",
       "var gd = document.getElementById('2558565f-453e-4437-b3b8-d028d3689f02');\n",
       "var x = new MutationObserver(function (mutations, observer) {{\n",
       "        var display = window.getComputedStyle(gd).display;\n",
       "        if (!display || display === 'none') {{\n",
       "            console.log([gd, 'removed!']);\n",
       "            Plotly.purge(gd);\n",
       "            observer.disconnect();\n",
       "        }}\n",
       "}});\n",
       "\n",
       "// Listen for the removal of the full notebook cells\n",
       "var notebookContainer = gd.closest('#notebook-container');\n",
       "if (notebookContainer) {{\n",
       "    x.observe(notebookContainer, {childList: true});\n",
       "}}\n",
       "\n",
       "// Listen for the clearing of the current output cell\n",
       "var outputEl = gd.closest('.output');\n",
       "if (outputEl) {{\n",
       "    x.observe(outputEl, {childList: true});\n",
       "}}\n",
       "\n",
       "                        })                };                });            </script>        </div>"
      ]
     },
     "metadata": {},
     "output_type": "display_data"
    }
   ],
   "source": [
    "import pandas as pd\n",
    "import plotly.express as px\n",
    "\n",
    "# Assuming you have a DataFrame 'Species_with_State' with a column 'State'\n",
    "# Create a new DataFrame with the count of species for each state\n",
    "species_count_by_state = Species_with_State.groupby('State').size().reset_index(name='SpeciesCount')\n",
    "\n",
    "# Convert the count to thousands\n",
    "species_count_by_state['SpeciesCount (k)'] = species_count_by_state['SpeciesCount'] / 1000\n",
    "\n",
    "# Create a choropleth map with a custom color scale\n",
    "fig = px.choropleth(\n",
    "    species_count_by_state,\n",
    "    locations='State',\n",
    "    locationmode='USA-states',\n",
    "    color='SpeciesCount (k)',\n",
    "    scope='usa',\n",
    "    color_continuous_scale=px.colors.sequential.Greens,  # Change to a green sequential color scale\n",
    "    labels={'SpeciesCount (k)': 'Number of Species (k)'},\n",
    "    title='Number of Species by US State',\n",
    "    hover_data={'SpeciesCount': True},  # Display the exact count on hover\n",
    ")\n",
    "\n",
    "# Show the plot\n",
    "fig.show()"
   ]
  },
  {
   "cell_type": "code",
   "execution_count": 51,
   "id": "a61ca3a1",
   "metadata": {},
   "outputs": [
    {
     "data": {
      "application/vnd.plotly.v1+json": {
       "config": {
        "plotlyServerURL": "https://plot.ly"
       },
       "data": [
        {
         "coloraxis": "coloraxis",
         "customdata": [
          [
           7470
          ],
          [
           680
          ],
          [
           4877
          ],
          [
           10271
          ],
          [
           1471
          ],
          [
           5584
          ],
          [
           3866
          ],
          [
           4837
          ],
          [
           1941
          ],
          [
           1172
          ],
          [
           1169
          ],
          [
           1185
          ],
          [
           2402
          ],
          [
           931
          ],
          [
           1427
          ],
          [
           967
          ],
          [
           1787
          ],
          [
           1123
          ],
          [
           2097
          ],
          [
           1968
          ],
          [
           3888
          ],
          [
           3592
          ],
          [
           4886
          ],
          [
           2631
          ],
          [
           5774
          ],
          [
           1801
          ],
          [
           3481
          ]
         ],
         "geo": "geo",
         "hovertemplate": "State=%{location}<br>SpeciesCount=%{customdata[0]}<br>Number of Species (k)=%{z}<extra></extra>",
         "locationmode": "USA-states",
         "locations": [
          "AK",
          "AR",
          "AZ",
          "CA",
          "CA, NV",
          "CO",
          "FL",
          "HI",
          "KY",
          "ME",
          "MI",
          "MN",
          "MT",
          "ND",
          "NM",
          "NV",
          "OH",
          "OR",
          "SC",
          "SD",
          "TN, NC",
          "TX",
          "UT",
          "VA",
          "WA",
          "WY",
          "WY, MT, ID"
         ],
         "name": "",
         "type": "choropleth",
         "z": [
          7.47,
          0.68,
          4.877,
          10.271,
          1.471,
          5.584,
          3.866,
          4.837,
          1.941,
          1.172,
          1.169,
          1.185,
          2.402,
          0.931,
          1.427,
          0.967,
          1.787,
          1.123,
          2.097,
          1.968,
          3.888,
          3.592,
          4.886,
          2.631,
          5.774,
          1.801,
          3.481
         ]
        }
       ],
       "layout": {
        "coloraxis": {
         "colorbar": {
          "title": {
           "text": "Number of Species (k)"
          }
         },
         "colorscale": [
          [
           0,
           "rgb(247,252,245)"
          ],
          [
           0.125,
           "rgb(229,245,224)"
          ],
          [
           0.25,
           "rgb(199,233,192)"
          ],
          [
           0.375,
           "rgb(161,217,155)"
          ],
          [
           0.5,
           "rgb(116,196,118)"
          ],
          [
           0.625,
           "rgb(65,171,93)"
          ],
          [
           0.75,
           "rgb(35,139,69)"
          ],
          [
           0.875,
           "rgb(0,109,44)"
          ],
          [
           1,
           "rgb(0,68,27)"
          ]
         ]
        },
        "geo": {
         "center": {},
         "domain": {
          "x": [
           0,
           1
          ],
          "y": [
           0,
           1
          ]
         },
         "scope": "usa"
        },
        "legend": {
         "tracegroupgap": 0
        },
        "template": {
         "data": {
          "bar": [
           {
            "error_x": {
             "color": "#2a3f5f"
            },
            "error_y": {
             "color": "#2a3f5f"
            },
            "marker": {
             "line": {
              "color": "#E5ECF6",
              "width": 0.5
             },
             "pattern": {
              "fillmode": "overlay",
              "size": 10,
              "solidity": 0.2
             }
            },
            "type": "bar"
           }
          ],
          "barpolar": [
           {
            "marker": {
             "line": {
              "color": "#E5ECF6",
              "width": 0.5
             },
             "pattern": {
              "fillmode": "overlay",
              "size": 10,
              "solidity": 0.2
             }
            },
            "type": "barpolar"
           }
          ],
          "carpet": [
           {
            "aaxis": {
             "endlinecolor": "#2a3f5f",
             "gridcolor": "white",
             "linecolor": "white",
             "minorgridcolor": "white",
             "startlinecolor": "#2a3f5f"
            },
            "baxis": {
             "endlinecolor": "#2a3f5f",
             "gridcolor": "white",
             "linecolor": "white",
             "minorgridcolor": "white",
             "startlinecolor": "#2a3f5f"
            },
            "type": "carpet"
           }
          ],
          "choropleth": [
           {
            "colorbar": {
             "outlinewidth": 0,
             "ticks": ""
            },
            "type": "choropleth"
           }
          ],
          "contour": [
           {
            "colorbar": {
             "outlinewidth": 0,
             "ticks": ""
            },
            "colorscale": [
             [
              0,
              "#0d0887"
             ],
             [
              0.1111111111111111,
              "#46039f"
             ],
             [
              0.2222222222222222,
              "#7201a8"
             ],
             [
              0.3333333333333333,
              "#9c179e"
             ],
             [
              0.4444444444444444,
              "#bd3786"
             ],
             [
              0.5555555555555556,
              "#d8576b"
             ],
             [
              0.6666666666666666,
              "#ed7953"
             ],
             [
              0.7777777777777778,
              "#fb9f3a"
             ],
             [
              0.8888888888888888,
              "#fdca26"
             ],
             [
              1,
              "#f0f921"
             ]
            ],
            "type": "contour"
           }
          ],
          "contourcarpet": [
           {
            "colorbar": {
             "outlinewidth": 0,
             "ticks": ""
            },
            "type": "contourcarpet"
           }
          ],
          "heatmap": [
           {
            "colorbar": {
             "outlinewidth": 0,
             "ticks": ""
            },
            "colorscale": [
             [
              0,
              "#0d0887"
             ],
             [
              0.1111111111111111,
              "#46039f"
             ],
             [
              0.2222222222222222,
              "#7201a8"
             ],
             [
              0.3333333333333333,
              "#9c179e"
             ],
             [
              0.4444444444444444,
              "#bd3786"
             ],
             [
              0.5555555555555556,
              "#d8576b"
             ],
             [
              0.6666666666666666,
              "#ed7953"
             ],
             [
              0.7777777777777778,
              "#fb9f3a"
             ],
             [
              0.8888888888888888,
              "#fdca26"
             ],
             [
              1,
              "#f0f921"
             ]
            ],
            "type": "heatmap"
           }
          ],
          "heatmapgl": [
           {
            "colorbar": {
             "outlinewidth": 0,
             "ticks": ""
            },
            "colorscale": [
             [
              0,
              "#0d0887"
             ],
             [
              0.1111111111111111,
              "#46039f"
             ],
             [
              0.2222222222222222,
              "#7201a8"
             ],
             [
              0.3333333333333333,
              "#9c179e"
             ],
             [
              0.4444444444444444,
              "#bd3786"
             ],
             [
              0.5555555555555556,
              "#d8576b"
             ],
             [
              0.6666666666666666,
              "#ed7953"
             ],
             [
              0.7777777777777778,
              "#fb9f3a"
             ],
             [
              0.8888888888888888,
              "#fdca26"
             ],
             [
              1,
              "#f0f921"
             ]
            ],
            "type": "heatmapgl"
           }
          ],
          "histogram": [
           {
            "marker": {
             "pattern": {
              "fillmode": "overlay",
              "size": 10,
              "solidity": 0.2
             }
            },
            "type": "histogram"
           }
          ],
          "histogram2d": [
           {
            "colorbar": {
             "outlinewidth": 0,
             "ticks": ""
            },
            "colorscale": [
             [
              0,
              "#0d0887"
             ],
             [
              0.1111111111111111,
              "#46039f"
             ],
             [
              0.2222222222222222,
              "#7201a8"
             ],
             [
              0.3333333333333333,
              "#9c179e"
             ],
             [
              0.4444444444444444,
              "#bd3786"
             ],
             [
              0.5555555555555556,
              "#d8576b"
             ],
             [
              0.6666666666666666,
              "#ed7953"
             ],
             [
              0.7777777777777778,
              "#fb9f3a"
             ],
             [
              0.8888888888888888,
              "#fdca26"
             ],
             [
              1,
              "#f0f921"
             ]
            ],
            "type": "histogram2d"
           }
          ],
          "histogram2dcontour": [
           {
            "colorbar": {
             "outlinewidth": 0,
             "ticks": ""
            },
            "colorscale": [
             [
              0,
              "#0d0887"
             ],
             [
              0.1111111111111111,
              "#46039f"
             ],
             [
              0.2222222222222222,
              "#7201a8"
             ],
             [
              0.3333333333333333,
              "#9c179e"
             ],
             [
              0.4444444444444444,
              "#bd3786"
             ],
             [
              0.5555555555555556,
              "#d8576b"
             ],
             [
              0.6666666666666666,
              "#ed7953"
             ],
             [
              0.7777777777777778,
              "#fb9f3a"
             ],
             [
              0.8888888888888888,
              "#fdca26"
             ],
             [
              1,
              "#f0f921"
             ]
            ],
            "type": "histogram2dcontour"
           }
          ],
          "mesh3d": [
           {
            "colorbar": {
             "outlinewidth": 0,
             "ticks": ""
            },
            "type": "mesh3d"
           }
          ],
          "parcoords": [
           {
            "line": {
             "colorbar": {
              "outlinewidth": 0,
              "ticks": ""
             }
            },
            "type": "parcoords"
           }
          ],
          "pie": [
           {
            "automargin": true,
            "type": "pie"
           }
          ],
          "scatter": [
           {
            "fillpattern": {
             "fillmode": "overlay",
             "size": 10,
             "solidity": 0.2
            },
            "type": "scatter"
           }
          ],
          "scatter3d": [
           {
            "line": {
             "colorbar": {
              "outlinewidth": 0,
              "ticks": ""
             }
            },
            "marker": {
             "colorbar": {
              "outlinewidth": 0,
              "ticks": ""
             }
            },
            "type": "scatter3d"
           }
          ],
          "scattercarpet": [
           {
            "marker": {
             "colorbar": {
              "outlinewidth": 0,
              "ticks": ""
             }
            },
            "type": "scattercarpet"
           }
          ],
          "scattergeo": [
           {
            "marker": {
             "colorbar": {
              "outlinewidth": 0,
              "ticks": ""
             }
            },
            "type": "scattergeo"
           }
          ],
          "scattergl": [
           {
            "marker": {
             "colorbar": {
              "outlinewidth": 0,
              "ticks": ""
             }
            },
            "type": "scattergl"
           }
          ],
          "scattermapbox": [
           {
            "marker": {
             "colorbar": {
              "outlinewidth": 0,
              "ticks": ""
             }
            },
            "type": "scattermapbox"
           }
          ],
          "scatterpolar": [
           {
            "marker": {
             "colorbar": {
              "outlinewidth": 0,
              "ticks": ""
             }
            },
            "type": "scatterpolar"
           }
          ],
          "scatterpolargl": [
           {
            "marker": {
             "colorbar": {
              "outlinewidth": 0,
              "ticks": ""
             }
            },
            "type": "scatterpolargl"
           }
          ],
          "scatterternary": [
           {
            "marker": {
             "colorbar": {
              "outlinewidth": 0,
              "ticks": ""
             }
            },
            "type": "scatterternary"
           }
          ],
          "surface": [
           {
            "colorbar": {
             "outlinewidth": 0,
             "ticks": ""
            },
            "colorscale": [
             [
              0,
              "#0d0887"
             ],
             [
              0.1111111111111111,
              "#46039f"
             ],
             [
              0.2222222222222222,
              "#7201a8"
             ],
             [
              0.3333333333333333,
              "#9c179e"
             ],
             [
              0.4444444444444444,
              "#bd3786"
             ],
             [
              0.5555555555555556,
              "#d8576b"
             ],
             [
              0.6666666666666666,
              "#ed7953"
             ],
             [
              0.7777777777777778,
              "#fb9f3a"
             ],
             [
              0.8888888888888888,
              "#fdca26"
             ],
             [
              1,
              "#f0f921"
             ]
            ],
            "type": "surface"
           }
          ],
          "table": [
           {
            "cells": {
             "fill": {
              "color": "#EBF0F8"
             },
             "line": {
              "color": "white"
             }
            },
            "header": {
             "fill": {
              "color": "#C8D4E3"
             },
             "line": {
              "color": "white"
             }
            },
            "type": "table"
           }
          ]
         },
         "layout": {
          "annotationdefaults": {
           "arrowcolor": "#2a3f5f",
           "arrowhead": 0,
           "arrowwidth": 1
          },
          "autotypenumbers": "strict",
          "coloraxis": {
           "colorbar": {
            "outlinewidth": 0,
            "ticks": ""
           }
          },
          "colorscale": {
           "diverging": [
            [
             0,
             "#8e0152"
            ],
            [
             0.1,
             "#c51b7d"
            ],
            [
             0.2,
             "#de77ae"
            ],
            [
             0.3,
             "#f1b6da"
            ],
            [
             0.4,
             "#fde0ef"
            ],
            [
             0.5,
             "#f7f7f7"
            ],
            [
             0.6,
             "#e6f5d0"
            ],
            [
             0.7,
             "#b8e186"
            ],
            [
             0.8,
             "#7fbc41"
            ],
            [
             0.9,
             "#4d9221"
            ],
            [
             1,
             "#276419"
            ]
           ],
           "sequential": [
            [
             0,
             "#0d0887"
            ],
            [
             0.1111111111111111,
             "#46039f"
            ],
            [
             0.2222222222222222,
             "#7201a8"
            ],
            [
             0.3333333333333333,
             "#9c179e"
            ],
            [
             0.4444444444444444,
             "#bd3786"
            ],
            [
             0.5555555555555556,
             "#d8576b"
            ],
            [
             0.6666666666666666,
             "#ed7953"
            ],
            [
             0.7777777777777778,
             "#fb9f3a"
            ],
            [
             0.8888888888888888,
             "#fdca26"
            ],
            [
             1,
             "#f0f921"
            ]
           ],
           "sequentialminus": [
            [
             0,
             "#0d0887"
            ],
            [
             0.1111111111111111,
             "#46039f"
            ],
            [
             0.2222222222222222,
             "#7201a8"
            ],
            [
             0.3333333333333333,
             "#9c179e"
            ],
            [
             0.4444444444444444,
             "#bd3786"
            ],
            [
             0.5555555555555556,
             "#d8576b"
            ],
            [
             0.6666666666666666,
             "#ed7953"
            ],
            [
             0.7777777777777778,
             "#fb9f3a"
            ],
            [
             0.8888888888888888,
             "#fdca26"
            ],
            [
             1,
             "#f0f921"
            ]
           ]
          },
          "colorway": [
           "#636efa",
           "#EF553B",
           "#00cc96",
           "#ab63fa",
           "#FFA15A",
           "#19d3f3",
           "#FF6692",
           "#B6E880",
           "#FF97FF",
           "#FECB52"
          ],
          "font": {
           "color": "#2a3f5f"
          },
          "geo": {
           "bgcolor": "white",
           "lakecolor": "white",
           "landcolor": "#E5ECF6",
           "showlakes": true,
           "showland": true,
           "subunitcolor": "white"
          },
          "hoverlabel": {
           "align": "left"
          },
          "hovermode": "closest",
          "mapbox": {
           "style": "light"
          },
          "paper_bgcolor": "white",
          "plot_bgcolor": "#E5ECF6",
          "polar": {
           "angularaxis": {
            "gridcolor": "white",
            "linecolor": "white",
            "ticks": ""
           },
           "bgcolor": "#E5ECF6",
           "radialaxis": {
            "gridcolor": "white",
            "linecolor": "white",
            "ticks": ""
           }
          },
          "scene": {
           "xaxis": {
            "backgroundcolor": "#E5ECF6",
            "gridcolor": "white",
            "gridwidth": 2,
            "linecolor": "white",
            "showbackground": true,
            "ticks": "",
            "zerolinecolor": "white"
           },
           "yaxis": {
            "backgroundcolor": "#E5ECF6",
            "gridcolor": "white",
            "gridwidth": 2,
            "linecolor": "white",
            "showbackground": true,
            "ticks": "",
            "zerolinecolor": "white"
           },
           "zaxis": {
            "backgroundcolor": "#E5ECF6",
            "gridcolor": "white",
            "gridwidth": 2,
            "linecolor": "white",
            "showbackground": true,
            "ticks": "",
            "zerolinecolor": "white"
           }
          },
          "shapedefaults": {
           "line": {
            "color": "#2a3f5f"
           }
          },
          "ternary": {
           "aaxis": {
            "gridcolor": "white",
            "linecolor": "white",
            "ticks": ""
           },
           "baxis": {
            "gridcolor": "white",
            "linecolor": "white",
            "ticks": ""
           },
           "bgcolor": "#E5ECF6",
           "caxis": {
            "gridcolor": "white",
            "linecolor": "white",
            "ticks": ""
           }
          },
          "title": {
           "x": 0.05
          },
          "xaxis": {
           "automargin": true,
           "gridcolor": "white",
           "linecolor": "white",
           "ticks": "",
           "title": {
            "standoff": 15
           },
           "zerolinecolor": "white",
           "zerolinewidth": 2
          },
          "yaxis": {
           "automargin": true,
           "gridcolor": "white",
           "linecolor": "white",
           "ticks": "",
           "title": {
            "standoff": 15
           },
           "zerolinecolor": "white",
           "zerolinewidth": 2
          }
         }
        },
        "title": {
         "text": "Number of Species by US State with Occurrence = Present"
        }
       }
      },
      "text/html": [
       "<div>                            <div id=\"1e1f1b95-6510-40b9-b02d-8d6ff8a38de0\" class=\"plotly-graph-div\" style=\"height:525px; width:100%;\"></div>            <script type=\"text/javascript\">                require([\"plotly\"], function(Plotly) {                    window.PLOTLYENV=window.PLOTLYENV || {};                                    if (document.getElementById(\"1e1f1b95-6510-40b9-b02d-8d6ff8a38de0\")) {                    Plotly.newPlot(                        \"1e1f1b95-6510-40b9-b02d-8d6ff8a38de0\",                        [{\"coloraxis\":\"coloraxis\",\"customdata\":[[7470],[680],[4877],[10271],[1471],[5584],[3866],[4837],[1941],[1172],[1169],[1185],[2402],[931],[1427],[967],[1787],[1123],[2097],[1968],[3888],[3592],[4886],[2631],[5774],[1801],[3481]],\"geo\":\"geo\",\"hovertemplate\":\"State=%{location}<br>SpeciesCount=%{customdata[0]}<br>Number of Species (k)=%{z}<extra></extra>\",\"locationmode\":\"USA-states\",\"locations\":[\"AK\",\"AR\",\"AZ\",\"CA\",\"CA, NV\",\"CO\",\"FL\",\"HI\",\"KY\",\"ME\",\"MI\",\"MN\",\"MT\",\"ND\",\"NM\",\"NV\",\"OH\",\"OR\",\"SC\",\"SD\",\"TN, NC\",\"TX\",\"UT\",\"VA\",\"WA\",\"WY\",\"WY, MT, ID\"],\"name\":\"\",\"z\":[7.47,0.68,4.877,10.271,1.471,5.584,3.866,4.837,1.941,1.172,1.169,1.185,2.402,0.931,1.427,0.967,1.787,1.123,2.097,1.968,3.888,3.592,4.886,2.631,5.774,1.801,3.481],\"type\":\"choropleth\"}],                        {\"template\":{\"data\":{\"histogram2dcontour\":[{\"type\":\"histogram2dcontour\",\"colorbar\":{\"outlinewidth\":0,\"ticks\":\"\"},\"colorscale\":[[0.0,\"#0d0887\"],[0.1111111111111111,\"#46039f\"],[0.2222222222222222,\"#7201a8\"],[0.3333333333333333,\"#9c179e\"],[0.4444444444444444,\"#bd3786\"],[0.5555555555555556,\"#d8576b\"],[0.6666666666666666,\"#ed7953\"],[0.7777777777777778,\"#fb9f3a\"],[0.8888888888888888,\"#fdca26\"],[1.0,\"#f0f921\"]]}],\"choropleth\":[{\"type\":\"choropleth\",\"colorbar\":{\"outlinewidth\":0,\"ticks\":\"\"}}],\"histogram2d\":[{\"type\":\"histogram2d\",\"colorbar\":{\"outlinewidth\":0,\"ticks\":\"\"},\"colorscale\":[[0.0,\"#0d0887\"],[0.1111111111111111,\"#46039f\"],[0.2222222222222222,\"#7201a8\"],[0.3333333333333333,\"#9c179e\"],[0.4444444444444444,\"#bd3786\"],[0.5555555555555556,\"#d8576b\"],[0.6666666666666666,\"#ed7953\"],[0.7777777777777778,\"#fb9f3a\"],[0.8888888888888888,\"#fdca26\"],[1.0,\"#f0f921\"]]}],\"heatmap\":[{\"type\":\"heatmap\",\"colorbar\":{\"outlinewidth\":0,\"ticks\":\"\"},\"colorscale\":[[0.0,\"#0d0887\"],[0.1111111111111111,\"#46039f\"],[0.2222222222222222,\"#7201a8\"],[0.3333333333333333,\"#9c179e\"],[0.4444444444444444,\"#bd3786\"],[0.5555555555555556,\"#d8576b\"],[0.6666666666666666,\"#ed7953\"],[0.7777777777777778,\"#fb9f3a\"],[0.8888888888888888,\"#fdca26\"],[1.0,\"#f0f921\"]]}],\"heatmapgl\":[{\"type\":\"heatmapgl\",\"colorbar\":{\"outlinewidth\":0,\"ticks\":\"\"},\"colorscale\":[[0.0,\"#0d0887\"],[0.1111111111111111,\"#46039f\"],[0.2222222222222222,\"#7201a8\"],[0.3333333333333333,\"#9c179e\"],[0.4444444444444444,\"#bd3786\"],[0.5555555555555556,\"#d8576b\"],[0.6666666666666666,\"#ed7953\"],[0.7777777777777778,\"#fb9f3a\"],[0.8888888888888888,\"#fdca26\"],[1.0,\"#f0f921\"]]}],\"contourcarpet\":[{\"type\":\"contourcarpet\",\"colorbar\":{\"outlinewidth\":0,\"ticks\":\"\"}}],\"contour\":[{\"type\":\"contour\",\"colorbar\":{\"outlinewidth\":0,\"ticks\":\"\"},\"colorscale\":[[0.0,\"#0d0887\"],[0.1111111111111111,\"#46039f\"],[0.2222222222222222,\"#7201a8\"],[0.3333333333333333,\"#9c179e\"],[0.4444444444444444,\"#bd3786\"],[0.5555555555555556,\"#d8576b\"],[0.6666666666666666,\"#ed7953\"],[0.7777777777777778,\"#fb9f3a\"],[0.8888888888888888,\"#fdca26\"],[1.0,\"#f0f921\"]]}],\"surface\":[{\"type\":\"surface\",\"colorbar\":{\"outlinewidth\":0,\"ticks\":\"\"},\"colorscale\":[[0.0,\"#0d0887\"],[0.1111111111111111,\"#46039f\"],[0.2222222222222222,\"#7201a8\"],[0.3333333333333333,\"#9c179e\"],[0.4444444444444444,\"#bd3786\"],[0.5555555555555556,\"#d8576b\"],[0.6666666666666666,\"#ed7953\"],[0.7777777777777778,\"#fb9f3a\"],[0.8888888888888888,\"#fdca26\"],[1.0,\"#f0f921\"]]}],\"mesh3d\":[{\"type\":\"mesh3d\",\"colorbar\":{\"outlinewidth\":0,\"ticks\":\"\"}}],\"scatter\":[{\"fillpattern\":{\"fillmode\":\"overlay\",\"size\":10,\"solidity\":0.2},\"type\":\"scatter\"}],\"parcoords\":[{\"type\":\"parcoords\",\"line\":{\"colorbar\":{\"outlinewidth\":0,\"ticks\":\"\"}}}],\"scatterpolargl\":[{\"type\":\"scatterpolargl\",\"marker\":{\"colorbar\":{\"outlinewidth\":0,\"ticks\":\"\"}}}],\"bar\":[{\"error_x\":{\"color\":\"#2a3f5f\"},\"error_y\":{\"color\":\"#2a3f5f\"},\"marker\":{\"line\":{\"color\":\"#E5ECF6\",\"width\":0.5},\"pattern\":{\"fillmode\":\"overlay\",\"size\":10,\"solidity\":0.2}},\"type\":\"bar\"}],\"scattergeo\":[{\"type\":\"scattergeo\",\"marker\":{\"colorbar\":{\"outlinewidth\":0,\"ticks\":\"\"}}}],\"scatterpolar\":[{\"type\":\"scatterpolar\",\"marker\":{\"colorbar\":{\"outlinewidth\":0,\"ticks\":\"\"}}}],\"histogram\":[{\"marker\":{\"pattern\":{\"fillmode\":\"overlay\",\"size\":10,\"solidity\":0.2}},\"type\":\"histogram\"}],\"scattergl\":[{\"type\":\"scattergl\",\"marker\":{\"colorbar\":{\"outlinewidth\":0,\"ticks\":\"\"}}}],\"scatter3d\":[{\"type\":\"scatter3d\",\"line\":{\"colorbar\":{\"outlinewidth\":0,\"ticks\":\"\"}},\"marker\":{\"colorbar\":{\"outlinewidth\":0,\"ticks\":\"\"}}}],\"scattermapbox\":[{\"type\":\"scattermapbox\",\"marker\":{\"colorbar\":{\"outlinewidth\":0,\"ticks\":\"\"}}}],\"scatterternary\":[{\"type\":\"scatterternary\",\"marker\":{\"colorbar\":{\"outlinewidth\":0,\"ticks\":\"\"}}}],\"scattercarpet\":[{\"type\":\"scattercarpet\",\"marker\":{\"colorbar\":{\"outlinewidth\":0,\"ticks\":\"\"}}}],\"carpet\":[{\"aaxis\":{\"endlinecolor\":\"#2a3f5f\",\"gridcolor\":\"white\",\"linecolor\":\"white\",\"minorgridcolor\":\"white\",\"startlinecolor\":\"#2a3f5f\"},\"baxis\":{\"endlinecolor\":\"#2a3f5f\",\"gridcolor\":\"white\",\"linecolor\":\"white\",\"minorgridcolor\":\"white\",\"startlinecolor\":\"#2a3f5f\"},\"type\":\"carpet\"}],\"table\":[{\"cells\":{\"fill\":{\"color\":\"#EBF0F8\"},\"line\":{\"color\":\"white\"}},\"header\":{\"fill\":{\"color\":\"#C8D4E3\"},\"line\":{\"color\":\"white\"}},\"type\":\"table\"}],\"barpolar\":[{\"marker\":{\"line\":{\"color\":\"#E5ECF6\",\"width\":0.5},\"pattern\":{\"fillmode\":\"overlay\",\"size\":10,\"solidity\":0.2}},\"type\":\"barpolar\"}],\"pie\":[{\"automargin\":true,\"type\":\"pie\"}]},\"layout\":{\"autotypenumbers\":\"strict\",\"colorway\":[\"#636efa\",\"#EF553B\",\"#00cc96\",\"#ab63fa\",\"#FFA15A\",\"#19d3f3\",\"#FF6692\",\"#B6E880\",\"#FF97FF\",\"#FECB52\"],\"font\":{\"color\":\"#2a3f5f\"},\"hovermode\":\"closest\",\"hoverlabel\":{\"align\":\"left\"},\"paper_bgcolor\":\"white\",\"plot_bgcolor\":\"#E5ECF6\",\"polar\":{\"bgcolor\":\"#E5ECF6\",\"angularaxis\":{\"gridcolor\":\"white\",\"linecolor\":\"white\",\"ticks\":\"\"},\"radialaxis\":{\"gridcolor\":\"white\",\"linecolor\":\"white\",\"ticks\":\"\"}},\"ternary\":{\"bgcolor\":\"#E5ECF6\",\"aaxis\":{\"gridcolor\":\"white\",\"linecolor\":\"white\",\"ticks\":\"\"},\"baxis\":{\"gridcolor\":\"white\",\"linecolor\":\"white\",\"ticks\":\"\"},\"caxis\":{\"gridcolor\":\"white\",\"linecolor\":\"white\",\"ticks\":\"\"}},\"coloraxis\":{\"colorbar\":{\"outlinewidth\":0,\"ticks\":\"\"}},\"colorscale\":{\"sequential\":[[0.0,\"#0d0887\"],[0.1111111111111111,\"#46039f\"],[0.2222222222222222,\"#7201a8\"],[0.3333333333333333,\"#9c179e\"],[0.4444444444444444,\"#bd3786\"],[0.5555555555555556,\"#d8576b\"],[0.6666666666666666,\"#ed7953\"],[0.7777777777777778,\"#fb9f3a\"],[0.8888888888888888,\"#fdca26\"],[1.0,\"#f0f921\"]],\"sequentialminus\":[[0.0,\"#0d0887\"],[0.1111111111111111,\"#46039f\"],[0.2222222222222222,\"#7201a8\"],[0.3333333333333333,\"#9c179e\"],[0.4444444444444444,\"#bd3786\"],[0.5555555555555556,\"#d8576b\"],[0.6666666666666666,\"#ed7953\"],[0.7777777777777778,\"#fb9f3a\"],[0.8888888888888888,\"#fdca26\"],[1.0,\"#f0f921\"]],\"diverging\":[[0,\"#8e0152\"],[0.1,\"#c51b7d\"],[0.2,\"#de77ae\"],[0.3,\"#f1b6da\"],[0.4,\"#fde0ef\"],[0.5,\"#f7f7f7\"],[0.6,\"#e6f5d0\"],[0.7,\"#b8e186\"],[0.8,\"#7fbc41\"],[0.9,\"#4d9221\"],[1,\"#276419\"]]},\"xaxis\":{\"gridcolor\":\"white\",\"linecolor\":\"white\",\"ticks\":\"\",\"title\":{\"standoff\":15},\"zerolinecolor\":\"white\",\"automargin\":true,\"zerolinewidth\":2},\"yaxis\":{\"gridcolor\":\"white\",\"linecolor\":\"white\",\"ticks\":\"\",\"title\":{\"standoff\":15},\"zerolinecolor\":\"white\",\"automargin\":true,\"zerolinewidth\":2},\"scene\":{\"xaxis\":{\"backgroundcolor\":\"#E5ECF6\",\"gridcolor\":\"white\",\"linecolor\":\"white\",\"showbackground\":true,\"ticks\":\"\",\"zerolinecolor\":\"white\",\"gridwidth\":2},\"yaxis\":{\"backgroundcolor\":\"#E5ECF6\",\"gridcolor\":\"white\",\"linecolor\":\"white\",\"showbackground\":true,\"ticks\":\"\",\"zerolinecolor\":\"white\",\"gridwidth\":2},\"zaxis\":{\"backgroundcolor\":\"#E5ECF6\",\"gridcolor\":\"white\",\"linecolor\":\"white\",\"showbackground\":true,\"ticks\":\"\",\"zerolinecolor\":\"white\",\"gridwidth\":2}},\"shapedefaults\":{\"line\":{\"color\":\"#2a3f5f\"}},\"annotationdefaults\":{\"arrowcolor\":\"#2a3f5f\",\"arrowhead\":0,\"arrowwidth\":1},\"geo\":{\"bgcolor\":\"white\",\"landcolor\":\"#E5ECF6\",\"subunitcolor\":\"white\",\"showland\":true,\"showlakes\":true,\"lakecolor\":\"white\"},\"title\":{\"x\":0.05},\"mapbox\":{\"style\":\"light\"}}},\"geo\":{\"domain\":{\"x\":[0.0,1.0],\"y\":[0.0,1.0]},\"center\":{},\"scope\":\"usa\"},\"coloraxis\":{\"colorbar\":{\"title\":{\"text\":\"Number of Species (k)\"}},\"colorscale\":[[0.0,\"rgb(247,252,245)\"],[0.125,\"rgb(229,245,224)\"],[0.25,\"rgb(199,233,192)\"],[0.375,\"rgb(161,217,155)\"],[0.5,\"rgb(116,196,118)\"],[0.625,\"rgb(65,171,93)\"],[0.75,\"rgb(35,139,69)\"],[0.875,\"rgb(0,109,44)\"],[1.0,\"rgb(0,68,27)\"]]},\"legend\":{\"tracegroupgap\":0},\"title\":{\"text\":\"Number of Species by US State with Occurrence = Present\"}},                        {\"responsive\": true}                    ).then(function(){\n",
       "                            \n",
       "var gd = document.getElementById('1e1f1b95-6510-40b9-b02d-8d6ff8a38de0');\n",
       "var x = new MutationObserver(function (mutations, observer) {{\n",
       "        var display = window.getComputedStyle(gd).display;\n",
       "        if (!display || display === 'none') {{\n",
       "            console.log([gd, 'removed!']);\n",
       "            Plotly.purge(gd);\n",
       "            observer.disconnect();\n",
       "        }}\n",
       "}});\n",
       "\n",
       "// Listen for the removal of the full notebook cells\n",
       "var notebookContainer = gd.closest('#notebook-container');\n",
       "if (notebookContainer) {{\n",
       "    x.observe(notebookContainer, {childList: true});\n",
       "}}\n",
       "\n",
       "// Listen for the clearing of the current output cell\n",
       "var outputEl = gd.closest('.output');\n",
       "if (outputEl) {{\n",
       "    x.observe(outputEl, {childList: true});\n",
       "}}\n",
       "\n",
       "                        })                };                });            </script>        </div>"
      ]
     },
     "metadata": {},
     "output_type": "display_data"
    }
   ],
   "source": [
    "import pandas as pd\n",
    "import plotly.express as px\n",
    "\n",
    "# Assuming you have a DataFrame 'Species_with_State' with a column 'State' and 'Occurrence'\n",
    "# Create a new DataFrame with the count of species for each state where Occurrence is 'Present'\n",
    "species_count_by_state = Species_with_State[Species_with_State['Occurrence'] == 'Present'].groupby('State').size().reset_index(name='SpeciesCount')\n",
    "\n",
    "# Convert the count to thousands\n",
    "species_count_by_state['SpeciesCount (k)'] = species_count_by_state['SpeciesCount'] / 1000\n",
    "\n",
    "# Create a choropleth map with a custom color scale\n",
    "fig = px.choropleth(\n",
    "    species_count_by_state,\n",
    "    locations='State',\n",
    "    locationmode='USA-states',\n",
    "    color='SpeciesCount (k)',\n",
    "    scope='usa',\n",
    "    color_continuous_scale=px.colors.sequential.Greens,  # Change to a green sequential color scale\n",
    "    labels={'SpeciesCount (k)': 'Number of Species (k)'},\n",
    "    title='Number of Species by US State with Occurrence = Present',\n",
    "    hover_data={'SpeciesCount': True},  # Display the exact count on hover\n",
    ")\n",
    "\n",
    "# Show the plot\n",
    "fig.show()"
   ]
  },
  {
   "cell_type": "code",
   "execution_count": 41,
   "id": "3d7707dd",
   "metadata": {},
   "outputs": [
    {
     "data": {
      "application/vnd.plotly.v1+json": {
       "config": {
        "plotlyServerURL": "https://plot.ly"
       },
       "data": [
        {
         "coloraxis": "coloraxis",
         "customdata": [
          [
           11740
          ],
          [
           1950
          ],
          [
           5309
          ],
          [
           17785
          ],
          [
           4439
          ],
          [
           6453
          ],
          [
           4658
          ],
          [
           5878
          ],
          [
           2499
          ],
          [
           1709
          ],
          [
           1397
          ],
          [
           1453
          ],
          [
           2556
          ],
          [
           1165
          ],
          [
           1536
          ],
          [
           2653
          ],
          [
           1941
          ],
          [
           3760
          ],
          [
           2321
          ],
          [
           2784
          ],
          [
           6623
          ],
          [
           4015
          ],
          [
           6919
          ],
          [
           4655
          ],
          [
           7054
          ],
          [
           2030
          ],
          [
           3966
          ]
         ],
         "geo": "geo",
         "hovertemplate": "State=%{location}<br>SpeciesCount=%{customdata[0]}<br>Number of Species (k)=%{z}<extra></extra>",
         "locationmode": "USA-states",
         "locations": [
          "AK",
          "AR",
          "AZ",
          "CA",
          "CA, NV",
          "CO",
          "FL",
          "HI",
          "KY",
          "ME",
          "MI",
          "MN",
          "MT",
          "ND",
          "NM",
          "NV",
          "OH",
          "OR",
          "SC",
          "SD",
          "TN, NC",
          "TX",
          "UT",
          "VA",
          "WA",
          "WY",
          "WY, MT, ID"
         ],
         "name": "",
         "type": "choropleth",
         "z": [
          11.74,
          1.95,
          5.309,
          17.785,
          4.439,
          6.453,
          4.658,
          5.878,
          2.499,
          1.709,
          1.397,
          1.453,
          2.556,
          1.165,
          1.536,
          2.653,
          1.941,
          3.76,
          2.321,
          2.784,
          6.623,
          4.015,
          6.919,
          4.655,
          7.054,
          2.03,
          3.966
         ]
        }
       ],
       "layout": {
        "coloraxis": {
         "colorbar": {
          "title": {
           "text": "Number of Species (k)"
          }
         },
         "colorscale": [
          [
           0,
           "lightgreen"
          ],
          [
           0.1,
           "mediumseagreen"
          ],
          [
           0.5,
           "forestgreen"
          ],
          [
           1,
           "darkgreen"
          ]
         ]
        },
        "geo": {
         "center": {},
         "domain": {
          "x": [
           0,
           1
          ],
          "y": [
           0,
           1
          ]
         },
         "scope": "usa"
        },
        "legend": {
         "tracegroupgap": 0
        },
        "template": {
         "data": {
          "bar": [
           {
            "error_x": {
             "color": "#2a3f5f"
            },
            "error_y": {
             "color": "#2a3f5f"
            },
            "marker": {
             "line": {
              "color": "#E5ECF6",
              "width": 0.5
             },
             "pattern": {
              "fillmode": "overlay",
              "size": 10,
              "solidity": 0.2
             }
            },
            "type": "bar"
           }
          ],
          "barpolar": [
           {
            "marker": {
             "line": {
              "color": "#E5ECF6",
              "width": 0.5
             },
             "pattern": {
              "fillmode": "overlay",
              "size": 10,
              "solidity": 0.2
             }
            },
            "type": "barpolar"
           }
          ],
          "carpet": [
           {
            "aaxis": {
             "endlinecolor": "#2a3f5f",
             "gridcolor": "white",
             "linecolor": "white",
             "minorgridcolor": "white",
             "startlinecolor": "#2a3f5f"
            },
            "baxis": {
             "endlinecolor": "#2a3f5f",
             "gridcolor": "white",
             "linecolor": "white",
             "minorgridcolor": "white",
             "startlinecolor": "#2a3f5f"
            },
            "type": "carpet"
           }
          ],
          "choropleth": [
           {
            "colorbar": {
             "outlinewidth": 0,
             "ticks": ""
            },
            "type": "choropleth"
           }
          ],
          "contour": [
           {
            "colorbar": {
             "outlinewidth": 0,
             "ticks": ""
            },
            "colorscale": [
             [
              0,
              "#0d0887"
             ],
             [
              0.1111111111111111,
              "#46039f"
             ],
             [
              0.2222222222222222,
              "#7201a8"
             ],
             [
              0.3333333333333333,
              "#9c179e"
             ],
             [
              0.4444444444444444,
              "#bd3786"
             ],
             [
              0.5555555555555556,
              "#d8576b"
             ],
             [
              0.6666666666666666,
              "#ed7953"
             ],
             [
              0.7777777777777778,
              "#fb9f3a"
             ],
             [
              0.8888888888888888,
              "#fdca26"
             ],
             [
              1,
              "#f0f921"
             ]
            ],
            "type": "contour"
           }
          ],
          "contourcarpet": [
           {
            "colorbar": {
             "outlinewidth": 0,
             "ticks": ""
            },
            "type": "contourcarpet"
           }
          ],
          "heatmap": [
           {
            "colorbar": {
             "outlinewidth": 0,
             "ticks": ""
            },
            "colorscale": [
             [
              0,
              "#0d0887"
             ],
             [
              0.1111111111111111,
              "#46039f"
             ],
             [
              0.2222222222222222,
              "#7201a8"
             ],
             [
              0.3333333333333333,
              "#9c179e"
             ],
             [
              0.4444444444444444,
              "#bd3786"
             ],
             [
              0.5555555555555556,
              "#d8576b"
             ],
             [
              0.6666666666666666,
              "#ed7953"
             ],
             [
              0.7777777777777778,
              "#fb9f3a"
             ],
             [
              0.8888888888888888,
              "#fdca26"
             ],
             [
              1,
              "#f0f921"
             ]
            ],
            "type": "heatmap"
           }
          ],
          "heatmapgl": [
           {
            "colorbar": {
             "outlinewidth": 0,
             "ticks": ""
            },
            "colorscale": [
             [
              0,
              "#0d0887"
             ],
             [
              0.1111111111111111,
              "#46039f"
             ],
             [
              0.2222222222222222,
              "#7201a8"
             ],
             [
              0.3333333333333333,
              "#9c179e"
             ],
             [
              0.4444444444444444,
              "#bd3786"
             ],
             [
              0.5555555555555556,
              "#d8576b"
             ],
             [
              0.6666666666666666,
              "#ed7953"
             ],
             [
              0.7777777777777778,
              "#fb9f3a"
             ],
             [
              0.8888888888888888,
              "#fdca26"
             ],
             [
              1,
              "#f0f921"
             ]
            ],
            "type": "heatmapgl"
           }
          ],
          "histogram": [
           {
            "marker": {
             "pattern": {
              "fillmode": "overlay",
              "size": 10,
              "solidity": 0.2
             }
            },
            "type": "histogram"
           }
          ],
          "histogram2d": [
           {
            "colorbar": {
             "outlinewidth": 0,
             "ticks": ""
            },
            "colorscale": [
             [
              0,
              "#0d0887"
             ],
             [
              0.1111111111111111,
              "#46039f"
             ],
             [
              0.2222222222222222,
              "#7201a8"
             ],
             [
              0.3333333333333333,
              "#9c179e"
             ],
             [
              0.4444444444444444,
              "#bd3786"
             ],
             [
              0.5555555555555556,
              "#d8576b"
             ],
             [
              0.6666666666666666,
              "#ed7953"
             ],
             [
              0.7777777777777778,
              "#fb9f3a"
             ],
             [
              0.8888888888888888,
              "#fdca26"
             ],
             [
              1,
              "#f0f921"
             ]
            ],
            "type": "histogram2d"
           }
          ],
          "histogram2dcontour": [
           {
            "colorbar": {
             "outlinewidth": 0,
             "ticks": ""
            },
            "colorscale": [
             [
              0,
              "#0d0887"
             ],
             [
              0.1111111111111111,
              "#46039f"
             ],
             [
              0.2222222222222222,
              "#7201a8"
             ],
             [
              0.3333333333333333,
              "#9c179e"
             ],
             [
              0.4444444444444444,
              "#bd3786"
             ],
             [
              0.5555555555555556,
              "#d8576b"
             ],
             [
              0.6666666666666666,
              "#ed7953"
             ],
             [
              0.7777777777777778,
              "#fb9f3a"
             ],
             [
              0.8888888888888888,
              "#fdca26"
             ],
             [
              1,
              "#f0f921"
             ]
            ],
            "type": "histogram2dcontour"
           }
          ],
          "mesh3d": [
           {
            "colorbar": {
             "outlinewidth": 0,
             "ticks": ""
            },
            "type": "mesh3d"
           }
          ],
          "parcoords": [
           {
            "line": {
             "colorbar": {
              "outlinewidth": 0,
              "ticks": ""
             }
            },
            "type": "parcoords"
           }
          ],
          "pie": [
           {
            "automargin": true,
            "type": "pie"
           }
          ],
          "scatter": [
           {
            "fillpattern": {
             "fillmode": "overlay",
             "size": 10,
             "solidity": 0.2
            },
            "type": "scatter"
           }
          ],
          "scatter3d": [
           {
            "line": {
             "colorbar": {
              "outlinewidth": 0,
              "ticks": ""
             }
            },
            "marker": {
             "colorbar": {
              "outlinewidth": 0,
              "ticks": ""
             }
            },
            "type": "scatter3d"
           }
          ],
          "scattercarpet": [
           {
            "marker": {
             "colorbar": {
              "outlinewidth": 0,
              "ticks": ""
             }
            },
            "type": "scattercarpet"
           }
          ],
          "scattergeo": [
           {
            "marker": {
             "colorbar": {
              "outlinewidth": 0,
              "ticks": ""
             }
            },
            "type": "scattergeo"
           }
          ],
          "scattergl": [
           {
            "marker": {
             "colorbar": {
              "outlinewidth": 0,
              "ticks": ""
             }
            },
            "type": "scattergl"
           }
          ],
          "scattermapbox": [
           {
            "marker": {
             "colorbar": {
              "outlinewidth": 0,
              "ticks": ""
             }
            },
            "type": "scattermapbox"
           }
          ],
          "scatterpolar": [
           {
            "marker": {
             "colorbar": {
              "outlinewidth": 0,
              "ticks": ""
             }
            },
            "type": "scatterpolar"
           }
          ],
          "scatterpolargl": [
           {
            "marker": {
             "colorbar": {
              "outlinewidth": 0,
              "ticks": ""
             }
            },
            "type": "scatterpolargl"
           }
          ],
          "scatterternary": [
           {
            "marker": {
             "colorbar": {
              "outlinewidth": 0,
              "ticks": ""
             }
            },
            "type": "scatterternary"
           }
          ],
          "surface": [
           {
            "colorbar": {
             "outlinewidth": 0,
             "ticks": ""
            },
            "colorscale": [
             [
              0,
              "#0d0887"
             ],
             [
              0.1111111111111111,
              "#46039f"
             ],
             [
              0.2222222222222222,
              "#7201a8"
             ],
             [
              0.3333333333333333,
              "#9c179e"
             ],
             [
              0.4444444444444444,
              "#bd3786"
             ],
             [
              0.5555555555555556,
              "#d8576b"
             ],
             [
              0.6666666666666666,
              "#ed7953"
             ],
             [
              0.7777777777777778,
              "#fb9f3a"
             ],
             [
              0.8888888888888888,
              "#fdca26"
             ],
             [
              1,
              "#f0f921"
             ]
            ],
            "type": "surface"
           }
          ],
          "table": [
           {
            "cells": {
             "fill": {
              "color": "#EBF0F8"
             },
             "line": {
              "color": "white"
             }
            },
            "header": {
             "fill": {
              "color": "#C8D4E3"
             },
             "line": {
              "color": "white"
             }
            },
            "type": "table"
           }
          ]
         },
         "layout": {
          "annotationdefaults": {
           "arrowcolor": "#2a3f5f",
           "arrowhead": 0,
           "arrowwidth": 1
          },
          "autotypenumbers": "strict",
          "coloraxis": {
           "colorbar": {
            "outlinewidth": 0,
            "ticks": ""
           }
          },
          "colorscale": {
           "diverging": [
            [
             0,
             "#8e0152"
            ],
            [
             0.1,
             "#c51b7d"
            ],
            [
             0.2,
             "#de77ae"
            ],
            [
             0.3,
             "#f1b6da"
            ],
            [
             0.4,
             "#fde0ef"
            ],
            [
             0.5,
             "#f7f7f7"
            ],
            [
             0.6,
             "#e6f5d0"
            ],
            [
             0.7,
             "#b8e186"
            ],
            [
             0.8,
             "#7fbc41"
            ],
            [
             0.9,
             "#4d9221"
            ],
            [
             1,
             "#276419"
            ]
           ],
           "sequential": [
            [
             0,
             "#0d0887"
            ],
            [
             0.1111111111111111,
             "#46039f"
            ],
            [
             0.2222222222222222,
             "#7201a8"
            ],
            [
             0.3333333333333333,
             "#9c179e"
            ],
            [
             0.4444444444444444,
             "#bd3786"
            ],
            [
             0.5555555555555556,
             "#d8576b"
            ],
            [
             0.6666666666666666,
             "#ed7953"
            ],
            [
             0.7777777777777778,
             "#fb9f3a"
            ],
            [
             0.8888888888888888,
             "#fdca26"
            ],
            [
             1,
             "#f0f921"
            ]
           ],
           "sequentialminus": [
            [
             0,
             "#0d0887"
            ],
            [
             0.1111111111111111,
             "#46039f"
            ],
            [
             0.2222222222222222,
             "#7201a8"
            ],
            [
             0.3333333333333333,
             "#9c179e"
            ],
            [
             0.4444444444444444,
             "#bd3786"
            ],
            [
             0.5555555555555556,
             "#d8576b"
            ],
            [
             0.6666666666666666,
             "#ed7953"
            ],
            [
             0.7777777777777778,
             "#fb9f3a"
            ],
            [
             0.8888888888888888,
             "#fdca26"
            ],
            [
             1,
             "#f0f921"
            ]
           ]
          },
          "colorway": [
           "#636efa",
           "#EF553B",
           "#00cc96",
           "#ab63fa",
           "#FFA15A",
           "#19d3f3",
           "#FF6692",
           "#B6E880",
           "#FF97FF",
           "#FECB52"
          ],
          "font": {
           "color": "#2a3f5f"
          },
          "geo": {
           "bgcolor": "white",
           "lakecolor": "white",
           "landcolor": "#E5ECF6",
           "showlakes": true,
           "showland": true,
           "subunitcolor": "white"
          },
          "hoverlabel": {
           "align": "left"
          },
          "hovermode": "closest",
          "mapbox": {
           "style": "light"
          },
          "paper_bgcolor": "white",
          "plot_bgcolor": "#E5ECF6",
          "polar": {
           "angularaxis": {
            "gridcolor": "white",
            "linecolor": "white",
            "ticks": ""
           },
           "bgcolor": "#E5ECF6",
           "radialaxis": {
            "gridcolor": "white",
            "linecolor": "white",
            "ticks": ""
           }
          },
          "scene": {
           "xaxis": {
            "backgroundcolor": "#E5ECF6",
            "gridcolor": "white",
            "gridwidth": 2,
            "linecolor": "white",
            "showbackground": true,
            "ticks": "",
            "zerolinecolor": "white"
           },
           "yaxis": {
            "backgroundcolor": "#E5ECF6",
            "gridcolor": "white",
            "gridwidth": 2,
            "linecolor": "white",
            "showbackground": true,
            "ticks": "",
            "zerolinecolor": "white"
           },
           "zaxis": {
            "backgroundcolor": "#E5ECF6",
            "gridcolor": "white",
            "gridwidth": 2,
            "linecolor": "white",
            "showbackground": true,
            "ticks": "",
            "zerolinecolor": "white"
           }
          },
          "shapedefaults": {
           "line": {
            "color": "#2a3f5f"
           }
          },
          "ternary": {
           "aaxis": {
            "gridcolor": "white",
            "linecolor": "white",
            "ticks": ""
           },
           "baxis": {
            "gridcolor": "white",
            "linecolor": "white",
            "ticks": ""
           },
           "bgcolor": "#E5ECF6",
           "caxis": {
            "gridcolor": "white",
            "linecolor": "white",
            "ticks": ""
           }
          },
          "title": {
           "x": 0.05
          },
          "xaxis": {
           "automargin": true,
           "gridcolor": "white",
           "linecolor": "white",
           "ticks": "",
           "title": {
            "standoff": 15
           },
           "zerolinecolor": "white",
           "zerolinewidth": 2
          },
          "yaxis": {
           "automargin": true,
           "gridcolor": "white",
           "linecolor": "white",
           "ticks": "",
           "title": {
            "standoff": 15
           },
           "zerolinecolor": "white",
           "zerolinewidth": 2
          }
         }
        },
        "title": {
         "text": "Number of Species by US State"
        }
       }
      },
      "text/html": [
       "<div>                            <div id=\"1ce5188c-395b-4cc0-919c-9c373da912cf\" class=\"plotly-graph-div\" style=\"height:525px; width:100%;\"></div>            <script type=\"text/javascript\">                require([\"plotly\"], function(Plotly) {                    window.PLOTLYENV=window.PLOTLYENV || {};                                    if (document.getElementById(\"1ce5188c-395b-4cc0-919c-9c373da912cf\")) {                    Plotly.newPlot(                        \"1ce5188c-395b-4cc0-919c-9c373da912cf\",                        [{\"coloraxis\":\"coloraxis\",\"customdata\":[[11740],[1950],[5309],[17785],[4439],[6453],[4658],[5878],[2499],[1709],[1397],[1453],[2556],[1165],[1536],[2653],[1941],[3760],[2321],[2784],[6623],[4015],[6919],[4655],[7054],[2030],[3966]],\"geo\":\"geo\",\"hovertemplate\":\"State=%{location}<br>SpeciesCount=%{customdata[0]}<br>Number of Species (k)=%{z}<extra></extra>\",\"locationmode\":\"USA-states\",\"locations\":[\"AK\",\"AR\",\"AZ\",\"CA\",\"CA, NV\",\"CO\",\"FL\",\"HI\",\"KY\",\"ME\",\"MI\",\"MN\",\"MT\",\"ND\",\"NM\",\"NV\",\"OH\",\"OR\",\"SC\",\"SD\",\"TN, NC\",\"TX\",\"UT\",\"VA\",\"WA\",\"WY\",\"WY, MT, ID\"],\"name\":\"\",\"z\":[11.74,1.95,5.309,17.785,4.439,6.453,4.658,5.878,2.499,1.709,1.397,1.453,2.556,1.165,1.536,2.653,1.941,3.76,2.321,2.784,6.623,4.015,6.919,4.655,7.054,2.03,3.966],\"type\":\"choropleth\"}],                        {\"template\":{\"data\":{\"histogram2dcontour\":[{\"type\":\"histogram2dcontour\",\"colorbar\":{\"outlinewidth\":0,\"ticks\":\"\"},\"colorscale\":[[0.0,\"#0d0887\"],[0.1111111111111111,\"#46039f\"],[0.2222222222222222,\"#7201a8\"],[0.3333333333333333,\"#9c179e\"],[0.4444444444444444,\"#bd3786\"],[0.5555555555555556,\"#d8576b\"],[0.6666666666666666,\"#ed7953\"],[0.7777777777777778,\"#fb9f3a\"],[0.8888888888888888,\"#fdca26\"],[1.0,\"#f0f921\"]]}],\"choropleth\":[{\"type\":\"choropleth\",\"colorbar\":{\"outlinewidth\":0,\"ticks\":\"\"}}],\"histogram2d\":[{\"type\":\"histogram2d\",\"colorbar\":{\"outlinewidth\":0,\"ticks\":\"\"},\"colorscale\":[[0.0,\"#0d0887\"],[0.1111111111111111,\"#46039f\"],[0.2222222222222222,\"#7201a8\"],[0.3333333333333333,\"#9c179e\"],[0.4444444444444444,\"#bd3786\"],[0.5555555555555556,\"#d8576b\"],[0.6666666666666666,\"#ed7953\"],[0.7777777777777778,\"#fb9f3a\"],[0.8888888888888888,\"#fdca26\"],[1.0,\"#f0f921\"]]}],\"heatmap\":[{\"type\":\"heatmap\",\"colorbar\":{\"outlinewidth\":0,\"ticks\":\"\"},\"colorscale\":[[0.0,\"#0d0887\"],[0.1111111111111111,\"#46039f\"],[0.2222222222222222,\"#7201a8\"],[0.3333333333333333,\"#9c179e\"],[0.4444444444444444,\"#bd3786\"],[0.5555555555555556,\"#d8576b\"],[0.6666666666666666,\"#ed7953\"],[0.7777777777777778,\"#fb9f3a\"],[0.8888888888888888,\"#fdca26\"],[1.0,\"#f0f921\"]]}],\"heatmapgl\":[{\"type\":\"heatmapgl\",\"colorbar\":{\"outlinewidth\":0,\"ticks\":\"\"},\"colorscale\":[[0.0,\"#0d0887\"],[0.1111111111111111,\"#46039f\"],[0.2222222222222222,\"#7201a8\"],[0.3333333333333333,\"#9c179e\"],[0.4444444444444444,\"#bd3786\"],[0.5555555555555556,\"#d8576b\"],[0.6666666666666666,\"#ed7953\"],[0.7777777777777778,\"#fb9f3a\"],[0.8888888888888888,\"#fdca26\"],[1.0,\"#f0f921\"]]}],\"contourcarpet\":[{\"type\":\"contourcarpet\",\"colorbar\":{\"outlinewidth\":0,\"ticks\":\"\"}}],\"contour\":[{\"type\":\"contour\",\"colorbar\":{\"outlinewidth\":0,\"ticks\":\"\"},\"colorscale\":[[0.0,\"#0d0887\"],[0.1111111111111111,\"#46039f\"],[0.2222222222222222,\"#7201a8\"],[0.3333333333333333,\"#9c179e\"],[0.4444444444444444,\"#bd3786\"],[0.5555555555555556,\"#d8576b\"],[0.6666666666666666,\"#ed7953\"],[0.7777777777777778,\"#fb9f3a\"],[0.8888888888888888,\"#fdca26\"],[1.0,\"#f0f921\"]]}],\"surface\":[{\"type\":\"surface\",\"colorbar\":{\"outlinewidth\":0,\"ticks\":\"\"},\"colorscale\":[[0.0,\"#0d0887\"],[0.1111111111111111,\"#46039f\"],[0.2222222222222222,\"#7201a8\"],[0.3333333333333333,\"#9c179e\"],[0.4444444444444444,\"#bd3786\"],[0.5555555555555556,\"#d8576b\"],[0.6666666666666666,\"#ed7953\"],[0.7777777777777778,\"#fb9f3a\"],[0.8888888888888888,\"#fdca26\"],[1.0,\"#f0f921\"]]}],\"mesh3d\":[{\"type\":\"mesh3d\",\"colorbar\":{\"outlinewidth\":0,\"ticks\":\"\"}}],\"scatter\":[{\"fillpattern\":{\"fillmode\":\"overlay\",\"size\":10,\"solidity\":0.2},\"type\":\"scatter\"}],\"parcoords\":[{\"type\":\"parcoords\",\"line\":{\"colorbar\":{\"outlinewidth\":0,\"ticks\":\"\"}}}],\"scatterpolargl\":[{\"type\":\"scatterpolargl\",\"marker\":{\"colorbar\":{\"outlinewidth\":0,\"ticks\":\"\"}}}],\"bar\":[{\"error_x\":{\"color\":\"#2a3f5f\"},\"error_y\":{\"color\":\"#2a3f5f\"},\"marker\":{\"line\":{\"color\":\"#E5ECF6\",\"width\":0.5},\"pattern\":{\"fillmode\":\"overlay\",\"size\":10,\"solidity\":0.2}},\"type\":\"bar\"}],\"scattergeo\":[{\"type\":\"scattergeo\",\"marker\":{\"colorbar\":{\"outlinewidth\":0,\"ticks\":\"\"}}}],\"scatterpolar\":[{\"type\":\"scatterpolar\",\"marker\":{\"colorbar\":{\"outlinewidth\":0,\"ticks\":\"\"}}}],\"histogram\":[{\"marker\":{\"pattern\":{\"fillmode\":\"overlay\",\"size\":10,\"solidity\":0.2}},\"type\":\"histogram\"}],\"scattergl\":[{\"type\":\"scattergl\",\"marker\":{\"colorbar\":{\"outlinewidth\":0,\"ticks\":\"\"}}}],\"scatter3d\":[{\"type\":\"scatter3d\",\"line\":{\"colorbar\":{\"outlinewidth\":0,\"ticks\":\"\"}},\"marker\":{\"colorbar\":{\"outlinewidth\":0,\"ticks\":\"\"}}}],\"scattermapbox\":[{\"type\":\"scattermapbox\",\"marker\":{\"colorbar\":{\"outlinewidth\":0,\"ticks\":\"\"}}}],\"scatterternary\":[{\"type\":\"scatterternary\",\"marker\":{\"colorbar\":{\"outlinewidth\":0,\"ticks\":\"\"}}}],\"scattercarpet\":[{\"type\":\"scattercarpet\",\"marker\":{\"colorbar\":{\"outlinewidth\":0,\"ticks\":\"\"}}}],\"carpet\":[{\"aaxis\":{\"endlinecolor\":\"#2a3f5f\",\"gridcolor\":\"white\",\"linecolor\":\"white\",\"minorgridcolor\":\"white\",\"startlinecolor\":\"#2a3f5f\"},\"baxis\":{\"endlinecolor\":\"#2a3f5f\",\"gridcolor\":\"white\",\"linecolor\":\"white\",\"minorgridcolor\":\"white\",\"startlinecolor\":\"#2a3f5f\"},\"type\":\"carpet\"}],\"table\":[{\"cells\":{\"fill\":{\"color\":\"#EBF0F8\"},\"line\":{\"color\":\"white\"}},\"header\":{\"fill\":{\"color\":\"#C8D4E3\"},\"line\":{\"color\":\"white\"}},\"type\":\"table\"}],\"barpolar\":[{\"marker\":{\"line\":{\"color\":\"#E5ECF6\",\"width\":0.5},\"pattern\":{\"fillmode\":\"overlay\",\"size\":10,\"solidity\":0.2}},\"type\":\"barpolar\"}],\"pie\":[{\"automargin\":true,\"type\":\"pie\"}]},\"layout\":{\"autotypenumbers\":\"strict\",\"colorway\":[\"#636efa\",\"#EF553B\",\"#00cc96\",\"#ab63fa\",\"#FFA15A\",\"#19d3f3\",\"#FF6692\",\"#B6E880\",\"#FF97FF\",\"#FECB52\"],\"font\":{\"color\":\"#2a3f5f\"},\"hovermode\":\"closest\",\"hoverlabel\":{\"align\":\"left\"},\"paper_bgcolor\":\"white\",\"plot_bgcolor\":\"#E5ECF6\",\"polar\":{\"bgcolor\":\"#E5ECF6\",\"angularaxis\":{\"gridcolor\":\"white\",\"linecolor\":\"white\",\"ticks\":\"\"},\"radialaxis\":{\"gridcolor\":\"white\",\"linecolor\":\"white\",\"ticks\":\"\"}},\"ternary\":{\"bgcolor\":\"#E5ECF6\",\"aaxis\":{\"gridcolor\":\"white\",\"linecolor\":\"white\",\"ticks\":\"\"},\"baxis\":{\"gridcolor\":\"white\",\"linecolor\":\"white\",\"ticks\":\"\"},\"caxis\":{\"gridcolor\":\"white\",\"linecolor\":\"white\",\"ticks\":\"\"}},\"coloraxis\":{\"colorbar\":{\"outlinewidth\":0,\"ticks\":\"\"}},\"colorscale\":{\"sequential\":[[0.0,\"#0d0887\"],[0.1111111111111111,\"#46039f\"],[0.2222222222222222,\"#7201a8\"],[0.3333333333333333,\"#9c179e\"],[0.4444444444444444,\"#bd3786\"],[0.5555555555555556,\"#d8576b\"],[0.6666666666666666,\"#ed7953\"],[0.7777777777777778,\"#fb9f3a\"],[0.8888888888888888,\"#fdca26\"],[1.0,\"#f0f921\"]],\"sequentialminus\":[[0.0,\"#0d0887\"],[0.1111111111111111,\"#46039f\"],[0.2222222222222222,\"#7201a8\"],[0.3333333333333333,\"#9c179e\"],[0.4444444444444444,\"#bd3786\"],[0.5555555555555556,\"#d8576b\"],[0.6666666666666666,\"#ed7953\"],[0.7777777777777778,\"#fb9f3a\"],[0.8888888888888888,\"#fdca26\"],[1.0,\"#f0f921\"]],\"diverging\":[[0,\"#8e0152\"],[0.1,\"#c51b7d\"],[0.2,\"#de77ae\"],[0.3,\"#f1b6da\"],[0.4,\"#fde0ef\"],[0.5,\"#f7f7f7\"],[0.6,\"#e6f5d0\"],[0.7,\"#b8e186\"],[0.8,\"#7fbc41\"],[0.9,\"#4d9221\"],[1,\"#276419\"]]},\"xaxis\":{\"gridcolor\":\"white\",\"linecolor\":\"white\",\"ticks\":\"\",\"title\":{\"standoff\":15},\"zerolinecolor\":\"white\",\"automargin\":true,\"zerolinewidth\":2},\"yaxis\":{\"gridcolor\":\"white\",\"linecolor\":\"white\",\"ticks\":\"\",\"title\":{\"standoff\":15},\"zerolinecolor\":\"white\",\"automargin\":true,\"zerolinewidth\":2},\"scene\":{\"xaxis\":{\"backgroundcolor\":\"#E5ECF6\",\"gridcolor\":\"white\",\"linecolor\":\"white\",\"showbackground\":true,\"ticks\":\"\",\"zerolinecolor\":\"white\",\"gridwidth\":2},\"yaxis\":{\"backgroundcolor\":\"#E5ECF6\",\"gridcolor\":\"white\",\"linecolor\":\"white\",\"showbackground\":true,\"ticks\":\"\",\"zerolinecolor\":\"white\",\"gridwidth\":2},\"zaxis\":{\"backgroundcolor\":\"#E5ECF6\",\"gridcolor\":\"white\",\"linecolor\":\"white\",\"showbackground\":true,\"ticks\":\"\",\"zerolinecolor\":\"white\",\"gridwidth\":2}},\"shapedefaults\":{\"line\":{\"color\":\"#2a3f5f\"}},\"annotationdefaults\":{\"arrowcolor\":\"#2a3f5f\",\"arrowhead\":0,\"arrowwidth\":1},\"geo\":{\"bgcolor\":\"white\",\"landcolor\":\"#E5ECF6\",\"subunitcolor\":\"white\",\"showland\":true,\"showlakes\":true,\"lakecolor\":\"white\"},\"title\":{\"x\":0.05},\"mapbox\":{\"style\":\"light\"}}},\"geo\":{\"domain\":{\"x\":[0.0,1.0],\"y\":[0.0,1.0]},\"center\":{},\"scope\":\"usa\"},\"coloraxis\":{\"colorbar\":{\"title\":{\"text\":\"Number of Species (k)\"}},\"colorscale\":[[0,\"lightgreen\"],[0.1,\"mediumseagreen\"],[0.5,\"forestgreen\"],[1,\"darkgreen\"]]},\"legend\":{\"tracegroupgap\":0},\"title\":{\"text\":\"Number of Species by US State\"}},                        {\"responsive\": true}                    ).then(function(){\n",
       "                            \n",
       "var gd = document.getElementById('1ce5188c-395b-4cc0-919c-9c373da912cf');\n",
       "var x = new MutationObserver(function (mutations, observer) {{\n",
       "        var display = window.getComputedStyle(gd).display;\n",
       "        if (!display || display === 'none') {{\n",
       "            console.log([gd, 'removed!']);\n",
       "            Plotly.purge(gd);\n",
       "            observer.disconnect();\n",
       "        }}\n",
       "}});\n",
       "\n",
       "// Listen for the removal of the full notebook cells\n",
       "var notebookContainer = gd.closest('#notebook-container');\n",
       "if (notebookContainer) {{\n",
       "    x.observe(notebookContainer, {childList: true});\n",
       "}}\n",
       "\n",
       "// Listen for the clearing of the current output cell\n",
       "var outputEl = gd.closest('.output');\n",
       "if (outputEl) {{\n",
       "    x.observe(outputEl, {childList: true});\n",
       "}}\n",
       "\n",
       "                        })                };                });            </script>        </div>"
      ]
     },
     "metadata": {},
     "output_type": "display_data"
    }
   ],
   "source": [
    "import pandas as pd\n",
    "import plotly.express as px\n",
    "\n",
    "# Assuming you have a DataFrame 'Species_with_State' with a column 'State'\n",
    "# Create a new DataFrame with the count of species for each state\n",
    "species_count_by_state = Species_with_State.groupby('State').size().reset_index(name='SpeciesCount')\n",
    "\n",
    "# Convert the count to thousands\n",
    "species_count_by_state['SpeciesCount (k)'] = species_count_by_state['SpeciesCount'] / 1000\n",
    "\n",
    "# Create a choropleth map with individual colors and a custom color scale\n",
    "fig = px.choropleth(\n",
    "    species_count_by_state,\n",
    "    locations='State',\n",
    "    locationmode='USA-states',\n",
    "    color='SpeciesCount (k)',\n",
    "    scope='usa',\n",
    "    color_continuous_scale=[\n",
    "        (0, 'lightgreen'),\n",
    "        (0.1, 'mediumseagreen'),\n",
    "        (0.5, 'forestgreen'),\n",
    "        (1, 'darkgreen')\n",
    "    ],  # Change to a custom color scale with individual colors\n",
    "    labels={'SpeciesCount (k)': 'Number of Species (k)'},\n",
    "    title='Number of Species by US State',\n",
    "    hover_data={'SpeciesCount': True},  # Display the exact count on hover\n",
    ")\n",
    "\n",
    "# Show the plot\n",
    "fig.show()"
   ]
  },
  {
   "cell_type": "code",
   "execution_count": 42,
   "id": "aebd3f9d",
   "metadata": {},
   "outputs": [
    {
     "data": {
      "application/vnd.plotly.v1+json": {
       "config": {
        "plotlyServerURL": "https://plot.ly"
       },
       "data": [
        {
         "coloraxis": "coloraxis",
         "customdata": [
          [
           11740
          ],
          [
           1950
          ],
          [
           5309
          ],
          [
           17785
          ],
          [
           4439
          ],
          [
           6453
          ],
          [
           4658
          ],
          [
           5878
          ],
          [
           2499
          ],
          [
           1709
          ],
          [
           1397
          ],
          [
           1453
          ],
          [
           2556
          ],
          [
           1165
          ],
          [
           1536
          ],
          [
           2653
          ],
          [
           1941
          ],
          [
           3760
          ],
          [
           2321
          ],
          [
           2784
          ],
          [
           6623
          ],
          [
           4015
          ],
          [
           6919
          ],
          [
           4655
          ],
          [
           7054
          ],
          [
           2030
          ],
          [
           3966
          ]
         ],
         "geo": "geo",
         "hovertemplate": "State=%{location}<br>SpeciesCount=%{customdata[0]}<br>Number of Species (k)=%{z}<extra></extra>",
         "locationmode": "USA-states",
         "locations": [
          "AK",
          "AR",
          "AZ",
          "CA",
          "CA, NV",
          "CO",
          "FL",
          "HI",
          "KY",
          "ME",
          "MI",
          "MN",
          "MT",
          "ND",
          "NM",
          "NV",
          "OH",
          "OR",
          "SC",
          "SD",
          "TN, NC",
          "TX",
          "UT",
          "VA",
          "WA",
          "WY",
          "WY, MT, ID"
         ],
         "name": "",
         "type": "choropleth",
         "z": [
          11.74,
          1.95,
          5.309,
          17.785,
          4.439,
          6.453,
          4.658,
          5.878,
          2.499,
          1.709,
          1.397,
          1.453,
          2.556,
          1.165,
          1.536,
          2.653,
          1.941,
          3.76,
          2.321,
          2.784,
          6.623,
          4.015,
          6.919,
          4.655,
          7.054,
          2.03,
          3.966
         ]
        }
       ],
       "layout": {
        "coloraxis": {
         "colorbar": {
          "title": {
           "text": "Number of Species (k)"
          }
         },
         "colorscale": [
          [
           0,
           "red"
          ],
          [
           0.1,
           "orange"
          ],
          [
           0.4,
           "yellow"
          ],
          [
           0.6,
           "lightblue"
          ],
          [
           0.8,
           "darkblue"
          ],
          [
           1,
           "darkgreen"
          ]
         ]
        },
        "geo": {
         "center": {},
         "domain": {
          "x": [
           0,
           1
          ],
          "y": [
           0,
           1
          ]
         },
         "scope": "usa"
        },
        "legend": {
         "tracegroupgap": 0
        },
        "template": {
         "data": {
          "bar": [
           {
            "error_x": {
             "color": "#2a3f5f"
            },
            "error_y": {
             "color": "#2a3f5f"
            },
            "marker": {
             "line": {
              "color": "#E5ECF6",
              "width": 0.5
             },
             "pattern": {
              "fillmode": "overlay",
              "size": 10,
              "solidity": 0.2
             }
            },
            "type": "bar"
           }
          ],
          "barpolar": [
           {
            "marker": {
             "line": {
              "color": "#E5ECF6",
              "width": 0.5
             },
             "pattern": {
              "fillmode": "overlay",
              "size": 10,
              "solidity": 0.2
             }
            },
            "type": "barpolar"
           }
          ],
          "carpet": [
           {
            "aaxis": {
             "endlinecolor": "#2a3f5f",
             "gridcolor": "white",
             "linecolor": "white",
             "minorgridcolor": "white",
             "startlinecolor": "#2a3f5f"
            },
            "baxis": {
             "endlinecolor": "#2a3f5f",
             "gridcolor": "white",
             "linecolor": "white",
             "minorgridcolor": "white",
             "startlinecolor": "#2a3f5f"
            },
            "type": "carpet"
           }
          ],
          "choropleth": [
           {
            "colorbar": {
             "outlinewidth": 0,
             "ticks": ""
            },
            "type": "choropleth"
           }
          ],
          "contour": [
           {
            "colorbar": {
             "outlinewidth": 0,
             "ticks": ""
            },
            "colorscale": [
             [
              0,
              "#0d0887"
             ],
             [
              0.1111111111111111,
              "#46039f"
             ],
             [
              0.2222222222222222,
              "#7201a8"
             ],
             [
              0.3333333333333333,
              "#9c179e"
             ],
             [
              0.4444444444444444,
              "#bd3786"
             ],
             [
              0.5555555555555556,
              "#d8576b"
             ],
             [
              0.6666666666666666,
              "#ed7953"
             ],
             [
              0.7777777777777778,
              "#fb9f3a"
             ],
             [
              0.8888888888888888,
              "#fdca26"
             ],
             [
              1,
              "#f0f921"
             ]
            ],
            "type": "contour"
           }
          ],
          "contourcarpet": [
           {
            "colorbar": {
             "outlinewidth": 0,
             "ticks": ""
            },
            "type": "contourcarpet"
           }
          ],
          "heatmap": [
           {
            "colorbar": {
             "outlinewidth": 0,
             "ticks": ""
            },
            "colorscale": [
             [
              0,
              "#0d0887"
             ],
             [
              0.1111111111111111,
              "#46039f"
             ],
             [
              0.2222222222222222,
              "#7201a8"
             ],
             [
              0.3333333333333333,
              "#9c179e"
             ],
             [
              0.4444444444444444,
              "#bd3786"
             ],
             [
              0.5555555555555556,
              "#d8576b"
             ],
             [
              0.6666666666666666,
              "#ed7953"
             ],
             [
              0.7777777777777778,
              "#fb9f3a"
             ],
             [
              0.8888888888888888,
              "#fdca26"
             ],
             [
              1,
              "#f0f921"
             ]
            ],
            "type": "heatmap"
           }
          ],
          "heatmapgl": [
           {
            "colorbar": {
             "outlinewidth": 0,
             "ticks": ""
            },
            "colorscale": [
             [
              0,
              "#0d0887"
             ],
             [
              0.1111111111111111,
              "#46039f"
             ],
             [
              0.2222222222222222,
              "#7201a8"
             ],
             [
              0.3333333333333333,
              "#9c179e"
             ],
             [
              0.4444444444444444,
              "#bd3786"
             ],
             [
              0.5555555555555556,
              "#d8576b"
             ],
             [
              0.6666666666666666,
              "#ed7953"
             ],
             [
              0.7777777777777778,
              "#fb9f3a"
             ],
             [
              0.8888888888888888,
              "#fdca26"
             ],
             [
              1,
              "#f0f921"
             ]
            ],
            "type": "heatmapgl"
           }
          ],
          "histogram": [
           {
            "marker": {
             "pattern": {
              "fillmode": "overlay",
              "size": 10,
              "solidity": 0.2
             }
            },
            "type": "histogram"
           }
          ],
          "histogram2d": [
           {
            "colorbar": {
             "outlinewidth": 0,
             "ticks": ""
            },
            "colorscale": [
             [
              0,
              "#0d0887"
             ],
             [
              0.1111111111111111,
              "#46039f"
             ],
             [
              0.2222222222222222,
              "#7201a8"
             ],
             [
              0.3333333333333333,
              "#9c179e"
             ],
             [
              0.4444444444444444,
              "#bd3786"
             ],
             [
              0.5555555555555556,
              "#d8576b"
             ],
             [
              0.6666666666666666,
              "#ed7953"
             ],
             [
              0.7777777777777778,
              "#fb9f3a"
             ],
             [
              0.8888888888888888,
              "#fdca26"
             ],
             [
              1,
              "#f0f921"
             ]
            ],
            "type": "histogram2d"
           }
          ],
          "histogram2dcontour": [
           {
            "colorbar": {
             "outlinewidth": 0,
             "ticks": ""
            },
            "colorscale": [
             [
              0,
              "#0d0887"
             ],
             [
              0.1111111111111111,
              "#46039f"
             ],
             [
              0.2222222222222222,
              "#7201a8"
             ],
             [
              0.3333333333333333,
              "#9c179e"
             ],
             [
              0.4444444444444444,
              "#bd3786"
             ],
             [
              0.5555555555555556,
              "#d8576b"
             ],
             [
              0.6666666666666666,
              "#ed7953"
             ],
             [
              0.7777777777777778,
              "#fb9f3a"
             ],
             [
              0.8888888888888888,
              "#fdca26"
             ],
             [
              1,
              "#f0f921"
             ]
            ],
            "type": "histogram2dcontour"
           }
          ],
          "mesh3d": [
           {
            "colorbar": {
             "outlinewidth": 0,
             "ticks": ""
            },
            "type": "mesh3d"
           }
          ],
          "parcoords": [
           {
            "line": {
             "colorbar": {
              "outlinewidth": 0,
              "ticks": ""
             }
            },
            "type": "parcoords"
           }
          ],
          "pie": [
           {
            "automargin": true,
            "type": "pie"
           }
          ],
          "scatter": [
           {
            "fillpattern": {
             "fillmode": "overlay",
             "size": 10,
             "solidity": 0.2
            },
            "type": "scatter"
           }
          ],
          "scatter3d": [
           {
            "line": {
             "colorbar": {
              "outlinewidth": 0,
              "ticks": ""
             }
            },
            "marker": {
             "colorbar": {
              "outlinewidth": 0,
              "ticks": ""
             }
            },
            "type": "scatter3d"
           }
          ],
          "scattercarpet": [
           {
            "marker": {
             "colorbar": {
              "outlinewidth": 0,
              "ticks": ""
             }
            },
            "type": "scattercarpet"
           }
          ],
          "scattergeo": [
           {
            "marker": {
             "colorbar": {
              "outlinewidth": 0,
              "ticks": ""
             }
            },
            "type": "scattergeo"
           }
          ],
          "scattergl": [
           {
            "marker": {
             "colorbar": {
              "outlinewidth": 0,
              "ticks": ""
             }
            },
            "type": "scattergl"
           }
          ],
          "scattermapbox": [
           {
            "marker": {
             "colorbar": {
              "outlinewidth": 0,
              "ticks": ""
             }
            },
            "type": "scattermapbox"
           }
          ],
          "scatterpolar": [
           {
            "marker": {
             "colorbar": {
              "outlinewidth": 0,
              "ticks": ""
             }
            },
            "type": "scatterpolar"
           }
          ],
          "scatterpolargl": [
           {
            "marker": {
             "colorbar": {
              "outlinewidth": 0,
              "ticks": ""
             }
            },
            "type": "scatterpolargl"
           }
          ],
          "scatterternary": [
           {
            "marker": {
             "colorbar": {
              "outlinewidth": 0,
              "ticks": ""
             }
            },
            "type": "scatterternary"
           }
          ],
          "surface": [
           {
            "colorbar": {
             "outlinewidth": 0,
             "ticks": ""
            },
            "colorscale": [
             [
              0,
              "#0d0887"
             ],
             [
              0.1111111111111111,
              "#46039f"
             ],
             [
              0.2222222222222222,
              "#7201a8"
             ],
             [
              0.3333333333333333,
              "#9c179e"
             ],
             [
              0.4444444444444444,
              "#bd3786"
             ],
             [
              0.5555555555555556,
              "#d8576b"
             ],
             [
              0.6666666666666666,
              "#ed7953"
             ],
             [
              0.7777777777777778,
              "#fb9f3a"
             ],
             [
              0.8888888888888888,
              "#fdca26"
             ],
             [
              1,
              "#f0f921"
             ]
            ],
            "type": "surface"
           }
          ],
          "table": [
           {
            "cells": {
             "fill": {
              "color": "#EBF0F8"
             },
             "line": {
              "color": "white"
             }
            },
            "header": {
             "fill": {
              "color": "#C8D4E3"
             },
             "line": {
              "color": "white"
             }
            },
            "type": "table"
           }
          ]
         },
         "layout": {
          "annotationdefaults": {
           "arrowcolor": "#2a3f5f",
           "arrowhead": 0,
           "arrowwidth": 1
          },
          "autotypenumbers": "strict",
          "coloraxis": {
           "colorbar": {
            "outlinewidth": 0,
            "ticks": ""
           }
          },
          "colorscale": {
           "diverging": [
            [
             0,
             "#8e0152"
            ],
            [
             0.1,
             "#c51b7d"
            ],
            [
             0.2,
             "#de77ae"
            ],
            [
             0.3,
             "#f1b6da"
            ],
            [
             0.4,
             "#fde0ef"
            ],
            [
             0.5,
             "#f7f7f7"
            ],
            [
             0.6,
             "#e6f5d0"
            ],
            [
             0.7,
             "#b8e186"
            ],
            [
             0.8,
             "#7fbc41"
            ],
            [
             0.9,
             "#4d9221"
            ],
            [
             1,
             "#276419"
            ]
           ],
           "sequential": [
            [
             0,
             "#0d0887"
            ],
            [
             0.1111111111111111,
             "#46039f"
            ],
            [
             0.2222222222222222,
             "#7201a8"
            ],
            [
             0.3333333333333333,
             "#9c179e"
            ],
            [
             0.4444444444444444,
             "#bd3786"
            ],
            [
             0.5555555555555556,
             "#d8576b"
            ],
            [
             0.6666666666666666,
             "#ed7953"
            ],
            [
             0.7777777777777778,
             "#fb9f3a"
            ],
            [
             0.8888888888888888,
             "#fdca26"
            ],
            [
             1,
             "#f0f921"
            ]
           ],
           "sequentialminus": [
            [
             0,
             "#0d0887"
            ],
            [
             0.1111111111111111,
             "#46039f"
            ],
            [
             0.2222222222222222,
             "#7201a8"
            ],
            [
             0.3333333333333333,
             "#9c179e"
            ],
            [
             0.4444444444444444,
             "#bd3786"
            ],
            [
             0.5555555555555556,
             "#d8576b"
            ],
            [
             0.6666666666666666,
             "#ed7953"
            ],
            [
             0.7777777777777778,
             "#fb9f3a"
            ],
            [
             0.8888888888888888,
             "#fdca26"
            ],
            [
             1,
             "#f0f921"
            ]
           ]
          },
          "colorway": [
           "#636efa",
           "#EF553B",
           "#00cc96",
           "#ab63fa",
           "#FFA15A",
           "#19d3f3",
           "#FF6692",
           "#B6E880",
           "#FF97FF",
           "#FECB52"
          ],
          "font": {
           "color": "#2a3f5f"
          },
          "geo": {
           "bgcolor": "white",
           "lakecolor": "white",
           "landcolor": "#E5ECF6",
           "showlakes": true,
           "showland": true,
           "subunitcolor": "white"
          },
          "hoverlabel": {
           "align": "left"
          },
          "hovermode": "closest",
          "mapbox": {
           "style": "light"
          },
          "paper_bgcolor": "white",
          "plot_bgcolor": "#E5ECF6",
          "polar": {
           "angularaxis": {
            "gridcolor": "white",
            "linecolor": "white",
            "ticks": ""
           },
           "bgcolor": "#E5ECF6",
           "radialaxis": {
            "gridcolor": "white",
            "linecolor": "white",
            "ticks": ""
           }
          },
          "scene": {
           "xaxis": {
            "backgroundcolor": "#E5ECF6",
            "gridcolor": "white",
            "gridwidth": 2,
            "linecolor": "white",
            "showbackground": true,
            "ticks": "",
            "zerolinecolor": "white"
           },
           "yaxis": {
            "backgroundcolor": "#E5ECF6",
            "gridcolor": "white",
            "gridwidth": 2,
            "linecolor": "white",
            "showbackground": true,
            "ticks": "",
            "zerolinecolor": "white"
           },
           "zaxis": {
            "backgroundcolor": "#E5ECF6",
            "gridcolor": "white",
            "gridwidth": 2,
            "linecolor": "white",
            "showbackground": true,
            "ticks": "",
            "zerolinecolor": "white"
           }
          },
          "shapedefaults": {
           "line": {
            "color": "#2a3f5f"
           }
          },
          "ternary": {
           "aaxis": {
            "gridcolor": "white",
            "linecolor": "white",
            "ticks": ""
           },
           "baxis": {
            "gridcolor": "white",
            "linecolor": "white",
            "ticks": ""
           },
           "bgcolor": "#E5ECF6",
           "caxis": {
            "gridcolor": "white",
            "linecolor": "white",
            "ticks": ""
           }
          },
          "title": {
           "x": 0.05
          },
          "xaxis": {
           "automargin": true,
           "gridcolor": "white",
           "linecolor": "white",
           "ticks": "",
           "title": {
            "standoff": 15
           },
           "zerolinecolor": "white",
           "zerolinewidth": 2
          },
          "yaxis": {
           "automargin": true,
           "gridcolor": "white",
           "linecolor": "white",
           "ticks": "",
           "title": {
            "standoff": 15
           },
           "zerolinecolor": "white",
           "zerolinewidth": 2
          }
         }
        },
        "title": {
         "text": "Number of Species by US State"
        }
       }
      },
      "text/html": [
       "<div>                            <div id=\"cd7132e9-97d7-4a49-9277-dc203e4f36b4\" class=\"plotly-graph-div\" style=\"height:525px; width:100%;\"></div>            <script type=\"text/javascript\">                require([\"plotly\"], function(Plotly) {                    window.PLOTLYENV=window.PLOTLYENV || {};                                    if (document.getElementById(\"cd7132e9-97d7-4a49-9277-dc203e4f36b4\")) {                    Plotly.newPlot(                        \"cd7132e9-97d7-4a49-9277-dc203e4f36b4\",                        [{\"coloraxis\":\"coloraxis\",\"customdata\":[[11740],[1950],[5309],[17785],[4439],[6453],[4658],[5878],[2499],[1709],[1397],[1453],[2556],[1165],[1536],[2653],[1941],[3760],[2321],[2784],[6623],[4015],[6919],[4655],[7054],[2030],[3966]],\"geo\":\"geo\",\"hovertemplate\":\"State=%{location}<br>SpeciesCount=%{customdata[0]}<br>Number of Species (k)=%{z}<extra></extra>\",\"locationmode\":\"USA-states\",\"locations\":[\"AK\",\"AR\",\"AZ\",\"CA\",\"CA, NV\",\"CO\",\"FL\",\"HI\",\"KY\",\"ME\",\"MI\",\"MN\",\"MT\",\"ND\",\"NM\",\"NV\",\"OH\",\"OR\",\"SC\",\"SD\",\"TN, NC\",\"TX\",\"UT\",\"VA\",\"WA\",\"WY\",\"WY, MT, ID\"],\"name\":\"\",\"z\":[11.74,1.95,5.309,17.785,4.439,6.453,4.658,5.878,2.499,1.709,1.397,1.453,2.556,1.165,1.536,2.653,1.941,3.76,2.321,2.784,6.623,4.015,6.919,4.655,7.054,2.03,3.966],\"type\":\"choropleth\"}],                        {\"template\":{\"data\":{\"histogram2dcontour\":[{\"type\":\"histogram2dcontour\",\"colorbar\":{\"outlinewidth\":0,\"ticks\":\"\"},\"colorscale\":[[0.0,\"#0d0887\"],[0.1111111111111111,\"#46039f\"],[0.2222222222222222,\"#7201a8\"],[0.3333333333333333,\"#9c179e\"],[0.4444444444444444,\"#bd3786\"],[0.5555555555555556,\"#d8576b\"],[0.6666666666666666,\"#ed7953\"],[0.7777777777777778,\"#fb9f3a\"],[0.8888888888888888,\"#fdca26\"],[1.0,\"#f0f921\"]]}],\"choropleth\":[{\"type\":\"choropleth\",\"colorbar\":{\"outlinewidth\":0,\"ticks\":\"\"}}],\"histogram2d\":[{\"type\":\"histogram2d\",\"colorbar\":{\"outlinewidth\":0,\"ticks\":\"\"},\"colorscale\":[[0.0,\"#0d0887\"],[0.1111111111111111,\"#46039f\"],[0.2222222222222222,\"#7201a8\"],[0.3333333333333333,\"#9c179e\"],[0.4444444444444444,\"#bd3786\"],[0.5555555555555556,\"#d8576b\"],[0.6666666666666666,\"#ed7953\"],[0.7777777777777778,\"#fb9f3a\"],[0.8888888888888888,\"#fdca26\"],[1.0,\"#f0f921\"]]}],\"heatmap\":[{\"type\":\"heatmap\",\"colorbar\":{\"outlinewidth\":0,\"ticks\":\"\"},\"colorscale\":[[0.0,\"#0d0887\"],[0.1111111111111111,\"#46039f\"],[0.2222222222222222,\"#7201a8\"],[0.3333333333333333,\"#9c179e\"],[0.4444444444444444,\"#bd3786\"],[0.5555555555555556,\"#d8576b\"],[0.6666666666666666,\"#ed7953\"],[0.7777777777777778,\"#fb9f3a\"],[0.8888888888888888,\"#fdca26\"],[1.0,\"#f0f921\"]]}],\"heatmapgl\":[{\"type\":\"heatmapgl\",\"colorbar\":{\"outlinewidth\":0,\"ticks\":\"\"},\"colorscale\":[[0.0,\"#0d0887\"],[0.1111111111111111,\"#46039f\"],[0.2222222222222222,\"#7201a8\"],[0.3333333333333333,\"#9c179e\"],[0.4444444444444444,\"#bd3786\"],[0.5555555555555556,\"#d8576b\"],[0.6666666666666666,\"#ed7953\"],[0.7777777777777778,\"#fb9f3a\"],[0.8888888888888888,\"#fdca26\"],[1.0,\"#f0f921\"]]}],\"contourcarpet\":[{\"type\":\"contourcarpet\",\"colorbar\":{\"outlinewidth\":0,\"ticks\":\"\"}}],\"contour\":[{\"type\":\"contour\",\"colorbar\":{\"outlinewidth\":0,\"ticks\":\"\"},\"colorscale\":[[0.0,\"#0d0887\"],[0.1111111111111111,\"#46039f\"],[0.2222222222222222,\"#7201a8\"],[0.3333333333333333,\"#9c179e\"],[0.4444444444444444,\"#bd3786\"],[0.5555555555555556,\"#d8576b\"],[0.6666666666666666,\"#ed7953\"],[0.7777777777777778,\"#fb9f3a\"],[0.8888888888888888,\"#fdca26\"],[1.0,\"#f0f921\"]]}],\"surface\":[{\"type\":\"surface\",\"colorbar\":{\"outlinewidth\":0,\"ticks\":\"\"},\"colorscale\":[[0.0,\"#0d0887\"],[0.1111111111111111,\"#46039f\"],[0.2222222222222222,\"#7201a8\"],[0.3333333333333333,\"#9c179e\"],[0.4444444444444444,\"#bd3786\"],[0.5555555555555556,\"#d8576b\"],[0.6666666666666666,\"#ed7953\"],[0.7777777777777778,\"#fb9f3a\"],[0.8888888888888888,\"#fdca26\"],[1.0,\"#f0f921\"]]}],\"mesh3d\":[{\"type\":\"mesh3d\",\"colorbar\":{\"outlinewidth\":0,\"ticks\":\"\"}}],\"scatter\":[{\"fillpattern\":{\"fillmode\":\"overlay\",\"size\":10,\"solidity\":0.2},\"type\":\"scatter\"}],\"parcoords\":[{\"type\":\"parcoords\",\"line\":{\"colorbar\":{\"outlinewidth\":0,\"ticks\":\"\"}}}],\"scatterpolargl\":[{\"type\":\"scatterpolargl\",\"marker\":{\"colorbar\":{\"outlinewidth\":0,\"ticks\":\"\"}}}],\"bar\":[{\"error_x\":{\"color\":\"#2a3f5f\"},\"error_y\":{\"color\":\"#2a3f5f\"},\"marker\":{\"line\":{\"color\":\"#E5ECF6\",\"width\":0.5},\"pattern\":{\"fillmode\":\"overlay\",\"size\":10,\"solidity\":0.2}},\"type\":\"bar\"}],\"scattergeo\":[{\"type\":\"scattergeo\",\"marker\":{\"colorbar\":{\"outlinewidth\":0,\"ticks\":\"\"}}}],\"scatterpolar\":[{\"type\":\"scatterpolar\",\"marker\":{\"colorbar\":{\"outlinewidth\":0,\"ticks\":\"\"}}}],\"histogram\":[{\"marker\":{\"pattern\":{\"fillmode\":\"overlay\",\"size\":10,\"solidity\":0.2}},\"type\":\"histogram\"}],\"scattergl\":[{\"type\":\"scattergl\",\"marker\":{\"colorbar\":{\"outlinewidth\":0,\"ticks\":\"\"}}}],\"scatter3d\":[{\"type\":\"scatter3d\",\"line\":{\"colorbar\":{\"outlinewidth\":0,\"ticks\":\"\"}},\"marker\":{\"colorbar\":{\"outlinewidth\":0,\"ticks\":\"\"}}}],\"scattermapbox\":[{\"type\":\"scattermapbox\",\"marker\":{\"colorbar\":{\"outlinewidth\":0,\"ticks\":\"\"}}}],\"scatterternary\":[{\"type\":\"scatterternary\",\"marker\":{\"colorbar\":{\"outlinewidth\":0,\"ticks\":\"\"}}}],\"scattercarpet\":[{\"type\":\"scattercarpet\",\"marker\":{\"colorbar\":{\"outlinewidth\":0,\"ticks\":\"\"}}}],\"carpet\":[{\"aaxis\":{\"endlinecolor\":\"#2a3f5f\",\"gridcolor\":\"white\",\"linecolor\":\"white\",\"minorgridcolor\":\"white\",\"startlinecolor\":\"#2a3f5f\"},\"baxis\":{\"endlinecolor\":\"#2a3f5f\",\"gridcolor\":\"white\",\"linecolor\":\"white\",\"minorgridcolor\":\"white\",\"startlinecolor\":\"#2a3f5f\"},\"type\":\"carpet\"}],\"table\":[{\"cells\":{\"fill\":{\"color\":\"#EBF0F8\"},\"line\":{\"color\":\"white\"}},\"header\":{\"fill\":{\"color\":\"#C8D4E3\"},\"line\":{\"color\":\"white\"}},\"type\":\"table\"}],\"barpolar\":[{\"marker\":{\"line\":{\"color\":\"#E5ECF6\",\"width\":0.5},\"pattern\":{\"fillmode\":\"overlay\",\"size\":10,\"solidity\":0.2}},\"type\":\"barpolar\"}],\"pie\":[{\"automargin\":true,\"type\":\"pie\"}]},\"layout\":{\"autotypenumbers\":\"strict\",\"colorway\":[\"#636efa\",\"#EF553B\",\"#00cc96\",\"#ab63fa\",\"#FFA15A\",\"#19d3f3\",\"#FF6692\",\"#B6E880\",\"#FF97FF\",\"#FECB52\"],\"font\":{\"color\":\"#2a3f5f\"},\"hovermode\":\"closest\",\"hoverlabel\":{\"align\":\"left\"},\"paper_bgcolor\":\"white\",\"plot_bgcolor\":\"#E5ECF6\",\"polar\":{\"bgcolor\":\"#E5ECF6\",\"angularaxis\":{\"gridcolor\":\"white\",\"linecolor\":\"white\",\"ticks\":\"\"},\"radialaxis\":{\"gridcolor\":\"white\",\"linecolor\":\"white\",\"ticks\":\"\"}},\"ternary\":{\"bgcolor\":\"#E5ECF6\",\"aaxis\":{\"gridcolor\":\"white\",\"linecolor\":\"white\",\"ticks\":\"\"},\"baxis\":{\"gridcolor\":\"white\",\"linecolor\":\"white\",\"ticks\":\"\"},\"caxis\":{\"gridcolor\":\"white\",\"linecolor\":\"white\",\"ticks\":\"\"}},\"coloraxis\":{\"colorbar\":{\"outlinewidth\":0,\"ticks\":\"\"}},\"colorscale\":{\"sequential\":[[0.0,\"#0d0887\"],[0.1111111111111111,\"#46039f\"],[0.2222222222222222,\"#7201a8\"],[0.3333333333333333,\"#9c179e\"],[0.4444444444444444,\"#bd3786\"],[0.5555555555555556,\"#d8576b\"],[0.6666666666666666,\"#ed7953\"],[0.7777777777777778,\"#fb9f3a\"],[0.8888888888888888,\"#fdca26\"],[1.0,\"#f0f921\"]],\"sequentialminus\":[[0.0,\"#0d0887\"],[0.1111111111111111,\"#46039f\"],[0.2222222222222222,\"#7201a8\"],[0.3333333333333333,\"#9c179e\"],[0.4444444444444444,\"#bd3786\"],[0.5555555555555556,\"#d8576b\"],[0.6666666666666666,\"#ed7953\"],[0.7777777777777778,\"#fb9f3a\"],[0.8888888888888888,\"#fdca26\"],[1.0,\"#f0f921\"]],\"diverging\":[[0,\"#8e0152\"],[0.1,\"#c51b7d\"],[0.2,\"#de77ae\"],[0.3,\"#f1b6da\"],[0.4,\"#fde0ef\"],[0.5,\"#f7f7f7\"],[0.6,\"#e6f5d0\"],[0.7,\"#b8e186\"],[0.8,\"#7fbc41\"],[0.9,\"#4d9221\"],[1,\"#276419\"]]},\"xaxis\":{\"gridcolor\":\"white\",\"linecolor\":\"white\",\"ticks\":\"\",\"title\":{\"standoff\":15},\"zerolinecolor\":\"white\",\"automargin\":true,\"zerolinewidth\":2},\"yaxis\":{\"gridcolor\":\"white\",\"linecolor\":\"white\",\"ticks\":\"\",\"title\":{\"standoff\":15},\"zerolinecolor\":\"white\",\"automargin\":true,\"zerolinewidth\":2},\"scene\":{\"xaxis\":{\"backgroundcolor\":\"#E5ECF6\",\"gridcolor\":\"white\",\"linecolor\":\"white\",\"showbackground\":true,\"ticks\":\"\",\"zerolinecolor\":\"white\",\"gridwidth\":2},\"yaxis\":{\"backgroundcolor\":\"#E5ECF6\",\"gridcolor\":\"white\",\"linecolor\":\"white\",\"showbackground\":true,\"ticks\":\"\",\"zerolinecolor\":\"white\",\"gridwidth\":2},\"zaxis\":{\"backgroundcolor\":\"#E5ECF6\",\"gridcolor\":\"white\",\"linecolor\":\"white\",\"showbackground\":true,\"ticks\":\"\",\"zerolinecolor\":\"white\",\"gridwidth\":2}},\"shapedefaults\":{\"line\":{\"color\":\"#2a3f5f\"}},\"annotationdefaults\":{\"arrowcolor\":\"#2a3f5f\",\"arrowhead\":0,\"arrowwidth\":1},\"geo\":{\"bgcolor\":\"white\",\"landcolor\":\"#E5ECF6\",\"subunitcolor\":\"white\",\"showland\":true,\"showlakes\":true,\"lakecolor\":\"white\"},\"title\":{\"x\":0.05},\"mapbox\":{\"style\":\"light\"}}},\"geo\":{\"domain\":{\"x\":[0.0,1.0],\"y\":[0.0,1.0]},\"center\":{},\"scope\":\"usa\"},\"coloraxis\":{\"colorbar\":{\"title\":{\"text\":\"Number of Species (k)\"}},\"colorscale\":[[0,\"red\"],[0.1,\"orange\"],[0.4,\"yellow\"],[0.6,\"lightblue\"],[0.8,\"darkblue\"],[1,\"darkgreen\"]]},\"legend\":{\"tracegroupgap\":0},\"title\":{\"text\":\"Number of Species by US State\"}},                        {\"responsive\": true}                    ).then(function(){\n",
       "                            \n",
       "var gd = document.getElementById('cd7132e9-97d7-4a49-9277-dc203e4f36b4');\n",
       "var x = new MutationObserver(function (mutations, observer) {{\n",
       "        var display = window.getComputedStyle(gd).display;\n",
       "        if (!display || display === 'none') {{\n",
       "            console.log([gd, 'removed!']);\n",
       "            Plotly.purge(gd);\n",
       "            observer.disconnect();\n",
       "        }}\n",
       "}});\n",
       "\n",
       "// Listen for the removal of the full notebook cells\n",
       "var notebookContainer = gd.closest('#notebook-container');\n",
       "if (notebookContainer) {{\n",
       "    x.observe(notebookContainer, {childList: true});\n",
       "}}\n",
       "\n",
       "// Listen for the clearing of the current output cell\n",
       "var outputEl = gd.closest('.output');\n",
       "if (outputEl) {{\n",
       "    x.observe(outputEl, {childList: true});\n",
       "}}\n",
       "\n",
       "                        })                };                });            </script>        </div>"
      ]
     },
     "metadata": {},
     "output_type": "display_data"
    }
   ],
   "source": [
    "import pandas as pd\n",
    "import plotly.express as px\n",
    "\n",
    "# Assuming you have a DataFrame 'Species_with_State' with a column 'State'\n",
    "# Create a new DataFrame with the count of species for each state\n",
    "species_count_by_state = Species_with_State.groupby('State').size().reset_index(name='SpeciesCount')\n",
    "\n",
    "# Convert the count to thousands\n",
    "species_count_by_state['SpeciesCount (k)'] = species_count_by_state['SpeciesCount'] / 1000\n",
    "\n",
    "# Define a custom color scale\n",
    "color_scale = [\n",
    "    (0, 'red'),          # Red for 0 species\n",
    "    (0.1, 'orange'),     # Orange for 1-3k species\n",
    "    (0.4, 'yellow'),     # Yellow for 4-8k species\n",
    "    (0.6, 'lightblue'),  # Light Blue for 9-13k species\n",
    "    (0.8, 'darkblue'),   # Dark Blue for 14-18k species\n",
    "    (1, 'darkgreen')     # Dark Green for more than 18k species\n",
    "]\n",
    "\n",
    "# Create a choropleth map with the custom color scale\n",
    "fig = px.choropleth(\n",
    "    species_count_by_state,\n",
    "    locations='State',\n",
    "    locationmode='USA-states',\n",
    "    color='SpeciesCount (k)',\n",
    "    scope='usa',\n",
    "    color_continuous_scale=color_scale,\n",
    "    labels={'SpeciesCount (k)': 'Number of Species (k)'},\n",
    "    title='Number of Species by US State',\n",
    "    hover_data={'SpeciesCount': True},  # Display the exact count on hover\n",
    ")\n",
    "\n",
    "# Show the plot\n",
    "fig.show()\n"
   ]
  },
  {
   "cell_type": "code",
   "execution_count": 25,
   "id": "cf5c6000",
   "metadata": {},
   "outputs": [
    {
     "name": "stdout",
     "output_type": "stream",
     "text": [
      "Average Annual Precipitation: 311.14107142857137\n"
     ]
    }
   ],
   "source": [
    "Species_with_State\n",
    "Species_with_State_no_duplicates = Species_with_State.drop_duplicates(subset='Park Name', keep='first')\n",
    "\n",
    "# Display the new DataFrame without duplicate park names\n",
    "#print(Species_with_State_no_duplicates)\n",
    "# Assuming 'Annual_precipitation' is the column you want to find the average for\n",
    "average_precipitation = Species_with_State_no_duplicates['Annual_Precipitation'].mean()\n",
    "\n",
    "# Display the average Annual_precipitation\n",
    "print(\"Average Annual Precipitation:\", average_precipitation)"
   ]
  },
  {
   "cell_type": "code",
   "execution_count": 27,
   "id": "4c444878",
   "metadata": {},
   "outputs": [
    {
     "name": "stdout",
     "output_type": "stream",
     "text": [
      "       Species ID                                       Park Name Category  \\\n",
      "0       ACAD-1000                            Acadia National Park   Mammal   \n",
      "1709    ARCH-1000                            Arches National Park   Mammal   \n",
      "2757    BADL-1000                          Badlands National Park   Mammal   \n",
      "4146    BIBE-1000                          Big Bend National Park   Mammal   \n",
      "6415    BISC-1000                          Biscayne National Park   Mammal   \n",
      "8141    BLCA-1000      Black Canyon of the Gunnison National Park   Mammal   \n",
      "9247    BRCA-1000                      Bryce Canyon National Park   Mammal   \n",
      "10533   CANY-1000                       Canyonlands National Park   Mammal   \n",
      "11756   CARE-1000                      Capitol Reef National Park   Mammal   \n",
      "13322   CAVE-1000                  Carlsbad Caverns National Park   Mammal   \n",
      "14858   CHIS-1000                   Channel Islands National Park   Mammal   \n",
      "16743   CONG-1000                          Congaree National Park   Mammal   \n",
      "19064   CRLA-1001                       Crater Lake National Park   Mammal   \n",
      "22824   CUVA-1000                   Cuyahoga Valley National Park   Mammal   \n",
      "24765   DENA-1000               Denali National Park and Preserve   Mammal   \n",
      "26085   DEVA-1000                      Death Valley National Park   Mammal   \n",
      "30524   DRTO-1000                      Dry Tortugas National Park   Mammal   \n",
      "31372   EVER-1000                        Everglades National Park   Mammal   \n",
      "33456   GAAR-1000  Gates Of The Arctic National Park and Preserve   Mammal   \n",
      "34809   GLAC-1000                           Glacier National Park   Mammal   \n",
      "37365   GLBA-1000          Glacier Bay National Park and Preserve   Mammal   \n",
      "39322   GRBA-1000                       Great Basin National Park   Mammal   \n",
      "41975   GRCA-1000                      Grand Canyon National Park   Mammal   \n",
      "44597   GRSA-1000     Great Sand Dunes National Park and Preserve   Mammal   \n",
      "45549   GRSM-1000             Great Smoky Mountains National Park   Mammal   \n",
      "52172   GRTE-1000                       Grand Teton National Park   Mammal   \n",
      "54202   GUMO-1000               Guadalupe Mountains National Park   Mammal   \n",
      "55948   HALE-1000                         Haleakala National Park   Mammal   \n",
      "58528   HAVO-1000                  Hawaii Volcanoes National Park   Mammal   \n",
      "61826   HOSP-1000                       Hot Springs National Park   Mammal   \n",
      "63776   ISRO-1000                       Isle Royale National Park   Mammal   \n",
      "65173   JOTR-1000                       Joshua Tree National Park   Mammal   \n",
      "67467   KATM-1000               Katmai National Park and Preserve   Mammal   \n",
      "68692   KEFJ-1000                      Kenai Fjords National Park   Mammal   \n",
      "69749   KOVA-1000                      Kobuk Valley National Park   Mammal   \n",
      "70774   LACL-1000           Lake Clark National Park and Preserve   Mammal   \n",
      "72781   LAVO-1000                   Lassen Volcanic National Park   Mammal   \n",
      "74578   MACA-1000                      Mammoth Cave National Park   Mammal   \n",
      "77077   MEVE-1000                        Mesa Verde National Park   Mammal   \n",
      "78320   MORA-1000                     Mount Rainier National Park   Mammal   \n",
      "80063   NOCA-1000                    North Cascades National Park   Mammal   \n",
      "83426   OLYM-1000                           Olympic National Park   Mammal   \n",
      "85374   PEFO-1000                  Petrified Forest National Park   Mammal   \n",
      "86227   PINN-1000                         Pinnacles National Park   Mammal   \n",
      "87643   REDW-1000                           Redwood National Park   Mammal   \n",
      "93953   ROMO-1000                    Rocky Mountain National Park   Mammal   \n",
      "97105   SAGU-1000                           Saguaro National Park   Mammal   \n",
      "98939   SEKI-1000         Sequoia and Kings Canyon National Parks   Mammal   \n",
      "100934  SHEN-1000                        Shenandoah National Park   Mammal   \n",
      "105589  THRO-1000                Theodore Roosevelt National Park   Mammal   \n",
      "106754  VOYA-1000                         Voyageurs National Park   Mammal   \n",
      "108207  WICA-1000                         Wind Cave National Park   Mammal   \n",
      "109602  WRST-1000  Wrangell - St Elias National Park and Preserve   Mammal   \n",
      "111398  YELL-1000                       Yellowstone National Park   Mammal   \n",
      "115364  YOSE-1000                          Yosemite National Park   Mammal   \n",
      "117452  ZION-1000                              Zion National Park   Mammal   \n",
      "\n",
      "               Order            Family                    Scientific Name  \\\n",
      "0       Artiodactyla          Cervidae                        Alces alces   \n",
      "1709    Artiodactyla    Antilocapridae              Antilocapra americana   \n",
      "2757    Artiodactyla    Antilocapridae              Antilocapra americana   \n",
      "4146    Artiodactyla    Antilocapridae              Antilocapra americana   \n",
      "6415    Artiodactyla          Cervidae             Odocoileus virginianus   \n",
      "8141    Artiodactyla    Antilocapridae              Antilocapra americana   \n",
      "9247    Artiodactyla    Antilocapridae              Antilocapra americana   \n",
      "10533   Artiodactyla    Antilocapridae              Antilocapra americana   \n",
      "11756   Artiodactyla    Antilocapridae              Antilocapra americana   \n",
      "13322   Artiodactyla          Cervidae         Cervus canadensis merriami   \n",
      "14858      Carnivora           Canidae                 Urocyon littoralis   \n",
      "16743   Artiodactyla          Cervidae             Odocoileus virginianus   \n",
      "19064   Artiodactyla    Antilocapridae              Antilocapra americana   \n",
      "22824   Artiodactyla          Cervidae             Odocoileus virginianus   \n",
      "24765   Artiodactyla           Bovidae                        Bison bison   \n",
      "26085       Rodentia      Heteromyidae      Perognathus formosus formosus   \n",
      "30524        Cetacea       Delphinidae         Globicephala macrorhynchus   \n",
      "31372   Artiodactyla          Cervidae             Odocoileus virginianus   \n",
      "33456   Artiodactyla           Bovidae                   Ovibos moschatus   \n",
      "34809       Rodentia        Cricetidae   Clethrionomys gapperi idahoensis   \n",
      "37365   Artiodactyla           Bovidae                Oreamnos americanus   \n",
      "39322   Artiodactyla         Camelidae                 Camelops hesternus   \n",
      "41975   Artiodactyla    Antilocapridae              Antilocapra americana   \n",
      "44597   Artiodactyla    Antilocapridae              Antilocapra americana   \n",
      "45549       Rodentia        Cricetidae      Clethrionomys gapperi gapperi   \n",
      "52172   Artiodactyla    Antilocapridae              Antilocapra americana   \n",
      "54202   Artiodactyla    Antilocapridae              Antilocapra americana   \n",
      "55948   Artiodactyla           Bovidae                         Bos taurus   \n",
      "58528   Artiodactyla           Bovidae                         Bos taurus   \n",
      "61826   Artiodactyla          Cervidae             Odocoileus virginianus   \n",
      "63776   Artiodactyla          Cervidae                        Alces alces   \n",
      "65173   Artiodactyla           Bovidae                         Ovis aries   \n",
      "67467   Artiodactyla          Cervidae                        Alces alces   \n",
      "68692   Artiodactyla           Bovidae                Oreamnos americanus   \n",
      "69749   Artiodactyla           Bovidae                   Ovibos moschatus   \n",
      "70774   Artiodactyla           Bovidae                         Ovis dalli   \n",
      "72781       Rodentia        Cricetidae  Clethrionomys californicus mazama   \n",
      "74578   Artiodactyla          Cervidae             Odocoileus virginianus   \n",
      "77077   Artiodactyla    Antilocapridae              Antilocapra americana   \n",
      "78320   Artiodactyla           Bovidae                Oreamnos americanus   \n",
      "80063   Artiodactyla           Bovidae                Oreamnos americanus   \n",
      "83426   Artiodactyla           Bovidae                Oreamnos americanus   \n",
      "85374       Rodentia         Sciuridae            Eutamias quadrivittatus   \n",
      "86227   Artiodactyla           Bovidae                         Bos taurus   \n",
      "87643   Artiodactyla          Cervidae          Ceruv elaphus rooselvelti   \n",
      "93953   Artiodactyla    Antilocapridae              Antilocapra americana   \n",
      "97105     Chiroptera  Vespertilionidae        Antrozous pallidus pallidus   \n",
      "98939   Artiodactyla           Bovidae                         Bos taurus   \n",
      "100934  Artiodactyla          Cervidae             Odocoileus virginianus   \n",
      "105589  Artiodactyla    Antilocapridae              Antilocapra americana   \n",
      "106754  Artiodactyla          Cervidae                        Alces alces   \n",
      "108207      Rodentia         Sciuridae          Eutamias minimus pallidus   \n",
      "109602  Artiodactyla           Bovidae                        Bison bison   \n",
      "111398  Artiodactyla    Antilocapridae              Antilocapra americana   \n",
      "115364  Artiodactyla           Bovidae            Ovis canadensis sierrae   \n",
      "117452  Artiodactyla           Bovidae                    Ovis canadensis   \n",
      "\n",
      "                                             Common Names Record Status  \\\n",
      "0                                                   Moose      Approved   \n",
      "1709                                            Pronghorn      Approved   \n",
      "2757                                 Pronghorn, Pronghorn      Approved   \n",
      "4146                                            Pronghorn      Approved   \n",
      "6415                                    White-Tailed Deer      Approved   \n",
      "8141                                            Pronghorn      Approved   \n",
      "9247                                            Pronghorn      Approved   \n",
      "10533                                           Pronghorn      Approved   \n",
      "11756                                           Pronghorn      Approved   \n",
      "13322                                       Merriam's Elk      Approved   \n",
      "14858                            Channel Islands Gray Fox      Approved   \n",
      "16743                                   White-Tailed Deer      Approved   \n",
      "19064                                           Pronghorn      Approved   \n",
      "22824                                   White-Tailed Deer      Approved   \n",
      "24765                                               Bison      Approved   \n",
      "26085                                                 NaN     In Review   \n",
      "30524                            Short-Finned Pilot Whale      Approved   \n",
      "31372                White-Tailed Deer, White-Tailed Deer      Approved   \n",
      "33456                                              Muskox      Approved   \n",
      "34809                                                 NaN     In Review   \n",
      "37365                                       Mountain Goat      Approved   \n",
      "39322                                                 NaN     In Review   \n",
      "41975                                Pronghorn, Pronghorn      Approved   \n",
      "44597                                           Pronghorn      Approved   \n",
      "45549                            Gapper's Red-Backed Vole      Approved   \n",
      "52172                                Pronghorn, Pronghorn      Approved   \n",
      "54202                                           Pronghorn      Approved   \n",
      "55948                                        Feral Cattle      Approved   \n",
      "58528                            Domestic Cattle (Feral),      Approved   \n",
      "61826                White-Tailed Deer, White-Tailed Deer      Approved   \n",
      "63776                                               Moose      Approved   \n",
      "65173                              Feral Sheep, Red Sheep      Approved   \n",
      "67467                                               Moose      Approved   \n",
      "68692                                       Mountain Goat      Approved   \n",
      "69749                                              Muskox      Approved   \n",
      "70774                                        Dall's Sheep      Approved   \n",
      "72781                                                 NaN      Approved   \n",
      "74578                                   White-Tailed Deer      Approved   \n",
      "77077                                Pronghorn, Pronghorn      Approved   \n",
      "78320                                       Mountain Goat      Approved   \n",
      "80063   Mountain Goat, Mountain Goat, Rocky Mountain Goat      Approved   \n",
      "83426                                       Mountain Goat      Approved   \n",
      "85374                                   Colorado Chipmunk     In Review   \n",
      "86227   Aurochs, Aurochs, Domestic Cattle (Feral), Dom...      Approved   \n",
      "87643                                                 NaN     In Review   \n",
      "93953                                  Pronghorn Antelope      Approved   \n",
      "97105                                   Desert Pallid Bat     In Review   \n",
      "98939                                        Domestic Cow      Approved   \n",
      "100934                                  White-Tailed Deer      Approved   \n",
      "105589             Pronghorn Antelope, Pronghorn/Antelope      Approved   \n",
      "106754                                              Moose      Approved   \n",
      "108207                                                NaN     In Review   \n",
      "109602                                              Bison      Approved   \n",
      "111398                                Antelope, Pronghorn      Approved   \n",
      "115364                        Sierra Nevada Bighorn Sheep      Approved   \n",
      "117452                                      Bighorn Sheep      Approved   \n",
      "\n",
      "                             Occurrence  Nativeness  ... Conservation Status  \\\n",
      "0                               Present      Native  ...                 NaN   \n",
      "1709                            Present      Native  ...                 NaN   \n",
      "2757                            Present      Native  ...                 NaN   \n",
      "4146                            Present      Native  ...                 NaN   \n",
      "6415                            Present     Unknown  ...                 NaN   \n",
      "8141                      Not Confirmed      Native  ...                 NaN   \n",
      "9247                            Present      Native  ...                 NaN   \n",
      "10533                     Not Confirmed      Native  ...                 NaN   \n",
      "11756                           Present      Native  ...                 NaN   \n",
      "13322   Not Present (Historical Report)      Native  ...                 NaN   \n",
      "14858                           Present      Native  ...                 NaN   \n",
      "16743                           Present      Native  ...                 NaN   \n",
      "19064                     Not Confirmed      Native  ...                 NaN   \n",
      "22824                           Present      Native  ...                 NaN   \n",
      "24765   Not Present (Historical Report)      Native  ...                 NaN   \n",
      "26085                               NaN         NaN  ...                 NaN   \n",
      "30524                           Present     Unknown  ...                 NaN   \n",
      "31372                           Present      Native  ...                 NaN   \n",
      "33456                           Present     Unknown  ...                 NaN   \n",
      "34809                               NaN         NaN  ...                 NaN   \n",
      "37365                           Present      Native  ...                 NaN   \n",
      "39322   Not Present (Historical Report)         NaN  ...                 NaN   \n",
      "41975                           Present      Native  ...                 NaN   \n",
      "44597                           Present      Native  ...                 NaN   \n",
      "45549        Not Present (False Report)      Native  ...                 NaN   \n",
      "52172                           Present      Native  ...                 NaN   \n",
      "54202                           Present      Native  ...                 NaN   \n",
      "55948                           Present  Not Native  ...                 NaN   \n",
      "58528                           Present  Not Native  ...                 NaN   \n",
      "61826                     Not Confirmed     Unknown  ...                 NaN   \n",
      "63776                           Present      Native  ...                 NaN   \n",
      "65173   Not Present (Historical Report)  Not Native  ...                 NaN   \n",
      "67467                           Present      Native  ...                 NaN   \n",
      "68692                           Present      Native  ...                 NaN   \n",
      "69749                           Present     Unknown  ...                 NaN   \n",
      "70774                           Present      Native  ...                 NaN   \n",
      "72781                           Present      Native  ...                 NaN   \n",
      "74578                           Present      Native  ...                 NaN   \n",
      "77077        Not Present (False Report)      Native  ...                 NaN   \n",
      "78320                           Present      Native  ...                 NaN   \n",
      "80063                           Present      Native  ...                 NaN   \n",
      "83426                           Present  Not Native  ...                 NaN   \n",
      "85374                               NaN         NaN  ...                 NaN   \n",
      "86227                           Present  Not Native  ...                 NaN   \n",
      "87643                               NaN         NaN  ...                 NaN   \n",
      "93953                           Present      Native  ...                 NaN   \n",
      "97105                               NaN         NaN  ...                 NaN   \n",
      "98939                           Present  Not Native  ...                 NaN   \n",
      "100934                          Present      Native  ...                 NaN   \n",
      "105589                          Present      Native  ...                 NaN   \n",
      "106754                          Present      Native  ...                 NaN   \n",
      "108207                              NaN         NaN  ...                 NaN   \n",
      "109602                          Present  Not Native  ...                 NaN   \n",
      "111398                          Present      Native  ...                 NaN   \n",
      "115364                          Present      Native  ...          Endangered   \n",
      "117452                          Present      Native  ...  Species of Concern   \n",
      "\n",
      "       Max_Month_Av Min_Month_AV  Annual_Precipitation  Future_Max  \\\n",
      "0                21           -7                 491.6          23   \n",
      "1709             28           -2                  59.2          30   \n",
      "2757             23           -3                 188.4          25   \n",
      "4146             25            6                 122.5          27   \n",
      "6415             29           21                 838.5          31   \n",
      "8141             23           -3                  69.4          25   \n",
      "9247             23           -1                 107.0          25   \n",
      "10533            28           -2                 112.5          30   \n",
      "11756            23           -1                 107.0          25   \n",
      "13322            25            6                 112.5          27   \n",
      "14858            19           11                 102.2          21   \n",
      "16743            28            8                 511.0          30   \n",
      "19064            24            4                 243.1          26   \n",
      "22824            23           -2                 481.2          25   \n",
      "24765            15          -10                 517.2          17   \n",
      "26085            30            6                  26.9          32   \n",
      "30524            29           21                 439.1          31   \n",
      "31372            29           21                 838.5          31   \n",
      "33456            11          -28                  78.8          13   \n",
      "34809            19           -4                 251.5          21   \n",
      "37365            14           -2                 190.7          16   \n",
      "39322            23           -1                 107.0          25   \n",
      "41975            19           -2                 142.2          21   \n",
      "44597            23            1                 179.0          25   \n",
      "45549            26            4                 681.2          28   \n",
      "52172            16          -10                 175.2          18   \n",
      "54202            25            6                 112.5          27   \n",
      "55948            27           22                 161.7          29   \n",
      "58528            25           22                2033.3          27   \n",
      "61826            28            6                 553.4          30   \n",
      "63776            19           -9                 241.4          21   \n",
      "65173            32           10                   8.6          34   \n",
      "67467            13           -1                1315.3          15   \n",
      "68692            13           -9                 282.3          15   \n",
      "69749            13          -19                 168.1          15   \n",
      "70774            13           -9                 282.3          15   \n",
      "72781            28            8                 428.5          30   \n",
      "74578            26            2                 625.3          28   \n",
      "77077            21           -4                 133.1          23   \n",
      "78320            19            5                 703.6          21   \n",
      "80063            17            4                 531.0          19   \n",
      "83426            16            4                 391.9          18   \n",
      "85374            26            1                  55.0          28   \n",
      "86227            18           11                 128.3          20   \n",
      "87643            14            8                 383.1          16   \n",
      "93953            23            1                  68.7          25   \n",
      "97105            31           11                 117.5          33   \n",
      "98939            27            8                  84.3          29   \n",
      "100934           24            1                 227.0          26   \n",
      "105589           21           -8                 169.7          23   \n",
      "106754           19          -15                 324.1          21   \n",
      "108207           23           -3                 188.4          25   \n",
      "109602           14          -19                 162.0          16   \n",
      "111398           17           -8                 193.2          19   \n",
      "115364           26            8                 130.7          28   \n",
      "117452           31            5                  46.2          33   \n",
      "\n",
      "        Future_Min  Future_Pricip  Longitude  Latitude       State  \n",
      "0             -4.7        526.012     -68.21     44.35          ME  \n",
      "1709           0.3         63.344    -109.57     38.68          UT  \n",
      "2757          -0.7        201.588    -102.50     43.75          SD  \n",
      "4146           8.3        131.075    -103.25     29.25          TX  \n",
      "6415          23.3        897.195     -80.08     25.65          FL  \n",
      "8141          -0.7         74.258    -107.72     38.57          CO  \n",
      "9247           1.3        114.490    -112.18     37.57          UT  \n",
      "10533          0.3        120.375    -109.93     38.20          UT  \n",
      "11756          1.3        114.490    -111.17     38.20          UT  \n",
      "13322          8.3        120.375    -104.44     32.17          NM  \n",
      "14858         13.3        109.354    -119.42     34.01          CA  \n",
      "16743         10.3        546.770     -80.78     33.78          SC  \n",
      "19064          6.3        260.117    -122.10     42.94          OR  \n",
      "22824          0.3        514.884     -81.55     41.24          OH  \n",
      "24765         -7.7        553.404    -150.50     63.33          AK  \n",
      "26085          8.3         28.783    -116.82     36.24      CA, NV  \n",
      "30524         23.3        469.837     -82.87     24.63          FL  \n",
      "31372         23.3        897.195     -80.93     25.32          FL  \n",
      "33456        -25.7         84.316    -153.30     67.78          AK  \n",
      "34809         -1.7        269.105    -114.00     48.80          MT  \n",
      "37365          0.3        204.049    -137.00     58.50          AK  \n",
      "39322          1.3        114.490    -114.30     38.98          NV  \n",
      "41975          0.3        152.154    -112.14     36.06          AZ  \n",
      "44597          3.3        191.530    -105.51     37.73          CO  \n",
      "45549          6.3        728.884     -83.53     35.68      TN, NC  \n",
      "52172         -7.7        187.464    -110.80     43.73          WY  \n",
      "54202          8.3        120.375    -104.87     31.92          TX  \n",
      "55948         24.3        173.019    -156.17     20.72          HI  \n",
      "58528         24.3       2175.631    -155.20     19.38          HI  \n",
      "61826          8.3        592.138     -93.05     34.51          AR  \n",
      "63776         -6.7        258.298     -88.55     48.10          MI  \n",
      "65173         12.3          9.202    -115.90     33.79          CA  \n",
      "67467          1.3       1407.371    -155.00     58.50          AK  \n",
      "68692         -6.7        302.061    -149.65     59.92          AK  \n",
      "69749        -16.7        179.867    -159.28     67.55          AK  \n",
      "70774         -6.7        302.061    -153.42     60.97          AK  \n",
      "72781         10.3        458.495    -121.51     40.49          CA  \n",
      "74578          4.3        669.071     -86.10     37.18          KY  \n",
      "77077         -1.7        142.417    -108.49     37.18          CO  \n",
      "78320          7.3        752.852    -121.75     46.85          WA  \n",
      "80063          6.3        568.170    -121.20     48.70          WA  \n",
      "83426          6.3        419.333    -123.50     47.97          WA  \n",
      "85374          3.3         58.850    -109.78     35.07          AZ  \n",
      "86227         13.3        137.281    -121.16     36.48          CA  \n",
      "87643         10.3        409.917    -124.00     41.30          CA  \n",
      "93953          3.3         73.509    -105.58     40.40          CO  \n",
      "97105         13.3        125.725    -110.50     32.25          AZ  \n",
      "98939         10.3         90.201    -118.68     36.43          CA  \n",
      "100934         3.3        242.890     -78.35     38.53          VA  \n",
      "105589        -5.7        181.579    -103.45     46.97          ND  \n",
      "106754       -12.7        346.787     -92.88     48.50          MN  \n",
      "108207        -0.7        201.588    -103.48     43.57          SD  \n",
      "109602       -16.7        173.340    -142.00     61.00          AK  \n",
      "111398        -5.7        206.724    -110.50     44.60  WY, MT, ID  \n",
      "115364        10.3        139.849    -119.50     37.83          CA  \n",
      "117452         7.3         49.434    -113.05     37.30          UT  \n",
      "\n",
      "[56 rows x 22 columns]\n"
     ]
    }
   ],
   "source": [
    "Species_with_State_no_duplicates = Species_with_State.drop_duplicates(subset='Park Name', keep='first')\n",
    "print(Species_with_State_no_duplicates)"
   ]
  },
  {
   "cell_type": "code",
   "execution_count": 9,
   "id": "6cc5faa5",
   "metadata": {},
   "outputs": [
    {
     "name": "stdout",
     "output_type": "stream",
     "text": [
      "       Species ID             Park Name        Category          Order  \\\n",
      "1709    ARCH-1000  Arches National Park          Mammal   Artiodactyla   \n",
      "1710    ARCH-1001  Arches National Park          Mammal   Artiodactyla   \n",
      "1711    ARCH-1002  Arches National Park          Mammal   Artiodactyla   \n",
      "1712    ARCH-1003  Arches National Park          Mammal   Artiodactyla   \n",
      "1713    ARCH-1004  Arches National Park          Mammal      Carnivora   \n",
      "...           ...                   ...             ...            ...   \n",
      "119243  ZION-2791    Zion National Park  Vascular Plant      Solanales   \n",
      "119244  ZION-2792    Zion National Park  Vascular Plant        Vitales   \n",
      "119245  ZION-2793    Zion National Park  Vascular Plant        Vitales   \n",
      "119246  ZION-2794    Zion National Park  Vascular Plant  Zygophyllales   \n",
      "119247  ZION-2795    Zion National Park  Vascular Plant  Zygophyllales   \n",
      "\n",
      "                Family        Scientific Name         Common Names  \\\n",
      "1709    Antilocapridae  Antilocapra americana            Pronghorn   \n",
      "1710           Bovidae        Ovis canadensis        Bighorn Sheep   \n",
      "1711          Cervidae      Cervus canadensis                  Elk   \n",
      "1712          Cervidae    Odocoileus hemionus            Mule Deer   \n",
      "1713           Canidae          Canis latrans               Coyote   \n",
      "...                ...                    ...                  ...   \n",
      "119243      Solanaceae      Solanum triflorum  Cut-Leaf Nightshade   \n",
      "119244        Vitaceae        Vitis arizonica         Canyon Grape   \n",
      "119245        Vitaceae         Vitis vinifera           Wine Grape   \n",
      "119246  Zygophyllaceae      Larrea tridentata        Creosote Bush   \n",
      "119247  Zygophyllaceae    Tribulus terrestris        Puncture Vine   \n",
      "\n",
      "       Record Status Occurrence  Nativeness  ... Conservation Status  \\\n",
      "1709        Approved    Present      Native  ...                 NaN   \n",
      "1710        Approved    Present      Native  ...  Species of Concern   \n",
      "1711        Approved    Present      Native  ...                 NaN   \n",
      "1712        Approved    Present      Native  ...                 NaN   \n",
      "1713        Approved    Present      Native  ...  Species of Concern   \n",
      "...              ...        ...         ...  ...                 ...   \n",
      "119243      Approved    Present      Native  ...                 NaN   \n",
      "119244      Approved    Present      Native  ...                 NaN   \n",
      "119245      Approved    Present  Not Native  ...                 NaN   \n",
      "119246      Approved    Present      Native  ...                 NaN   \n",
      "119247      Approved    Present  Not Native  ...                 NaN   \n",
      "\n",
      "       Max_Month_Av Min_Month_AV  Annual_Precipitation  Future_Max  \\\n",
      "1709             28           -2                  59.2          30   \n",
      "1710             28           -2                  59.2          30   \n",
      "1711             28           -2                  59.2          30   \n",
      "1712             28           -2                  59.2          30   \n",
      "1713             28           -2                  59.2          30   \n",
      "...             ...          ...                   ...         ...   \n",
      "119243           31            5                  46.2          33   \n",
      "119244           31            5                  46.2          33   \n",
      "119245           31            5                  46.2          33   \n",
      "119246           31            5                  46.2          33   \n",
      "119247           31            5                  46.2          33   \n",
      "\n",
      "        Future_Min  Future_Pricip  Longitude  Latitude  State  \n",
      "1709           0.3         63.344    -109.57     38.68     UT  \n",
      "1710           0.3         63.344    -109.57     38.68     UT  \n",
      "1711           0.3         63.344    -109.57     38.68     UT  \n",
      "1712           0.3         63.344    -109.57     38.68     UT  \n",
      "1713           0.3         63.344    -109.57     38.68     UT  \n",
      "...            ...            ...        ...       ...    ...  \n",
      "119243         7.3         49.434    -113.05     37.30     UT  \n",
      "119244         7.3         49.434    -113.05     37.30     UT  \n",
      "119245         7.3         49.434    -113.05     37.30     UT  \n",
      "119246         7.3         49.434    -113.05     37.30     UT  \n",
      "119247         7.3         49.434    -113.05     37.30     UT  \n",
      "\n",
      "[6919 rows x 22 columns]\n",
      "       Species ID                   Park Name Category         Order  \\\n",
      "1709    ARCH-1000        Arches National Park   Mammal  Artiodactyla   \n",
      "9247    BRCA-1000  Bryce Canyon National Park   Mammal  Artiodactyla   \n",
      "10533   CANY-1000   Canyonlands National Park   Mammal  Artiodactyla   \n",
      "11756   CARE-1000  Capitol Reef National Park   Mammal  Artiodactyla   \n",
      "117452  ZION-1000          Zion National Park   Mammal  Artiodactyla   \n",
      "\n",
      "                Family        Scientific Name   Common Names Record Status  \\\n",
      "1709    Antilocapridae  Antilocapra americana      Pronghorn      Approved   \n",
      "9247    Antilocapridae  Antilocapra americana      Pronghorn      Approved   \n",
      "10533   Antilocapridae  Antilocapra americana      Pronghorn      Approved   \n",
      "11756   Antilocapridae  Antilocapra americana      Pronghorn      Approved   \n",
      "117452         Bovidae        Ovis canadensis  Bighorn Sheep      Approved   \n",
      "\n",
      "           Occurrence Nativeness  ... Conservation Status Max_Month_Av  \\\n",
      "1709          Present     Native  ...                 NaN           28   \n",
      "9247          Present     Native  ...                 NaN           23   \n",
      "10533   Not Confirmed     Native  ...                 NaN           28   \n",
      "11756         Present     Native  ...                 NaN           23   \n",
      "117452        Present     Native  ...  Species of Concern           31   \n",
      "\n",
      "       Min_Month_AV  Annual_Precipitation  Future_Max  Future_Min  \\\n",
      "1709             -2                  59.2          30         0.3   \n",
      "9247             -1                 107.0          25         1.3   \n",
      "10533            -2                 112.5          30         0.3   \n",
      "11756            -1                 107.0          25         1.3   \n",
      "117452            5                  46.2          33         7.3   \n",
      "\n",
      "        Future_Pricip  Longitude  Latitude  State  \n",
      "1709           63.344    -109.57     38.68     UT  \n",
      "9247          114.490    -112.18     37.57     UT  \n",
      "10533         120.375    -109.93     38.20     UT  \n",
      "11756         114.490    -111.17     38.20     UT  \n",
      "117452         49.434    -113.05     37.30     UT  \n",
      "\n",
      "[5 rows x 22 columns]\n"
     ]
    }
   ],
   "source": [
    "import pandas as pd\n",
    "\n",
    "# Assuming Species_with_State is your original DataFrame\n",
    "# Replace 'State' with the actual column name in your DataFrame\n",
    "# to check if it equals 'Utah'\n",
    "utah_species_df = Species_with_State[Species_with_State['State'] == 'UT']\n",
    "\n",
    "# Display the new DataFrame with only rows where State is 'Utah'\n",
    "print(utah_species_df)\n",
    "# Replace 'Park Name' with the actual column name in your DataFrame\n",
    "# that contains the park names\n",
    "utah_species_df_no_duplicates = utah_species_df.drop_duplicates(subset='Park Name', keep='first')\n",
    "\n",
    "# Display the new DataFrame without duplicate park names\n",
    "print(utah_species_df_no_duplicates)"
   ]
  },
  {
   "cell_type": "code",
   "execution_count": 19,
   "id": "f40eadea",
   "metadata": {},
   "outputs": [
    {
     "name": "stdout",
     "output_type": "stream",
     "text": [
      "      Species ID                   Park Name      Category         Order  \\\n",
      "74578  MACA-1000  Mammoth Cave National Park        Mammal  Artiodactyla   \n",
      "74579  MACA-1001  Mammoth Cave National Park        Mammal     Carnivora   \n",
      "74580  MACA-1002  Mammoth Cave National Park        Mammal     Carnivora   \n",
      "74581  MACA-1003  Mammoth Cave National Park        Mammal     Carnivora   \n",
      "74582  MACA-1004  Mammoth Cave National Park        Mammal     Carnivora   \n",
      "...          ...                         ...           ...           ...   \n",
      "77072  MACA-3494  Mammoth Cave National Park  Invertebrate     Unionoida   \n",
      "77073  MACA-3495  Mammoth Cave National Park  Invertebrate     Unionoida   \n",
      "77074  MACA-3496  Mammoth Cave National Park  Invertebrate     Unionoida   \n",
      "77075  MACA-3497  Mammoth Cave National Park  Invertebrate     Unionoida   \n",
      "77076  MACA-3498  Mammoth Cave National Park  Invertebrate     Veneroida   \n",
      "\n",
      "             Family           Scientific Name         Common Names  \\\n",
      "74578      Cervidae    Odocoileus virginianus    White-Tailed Deer   \n",
      "74579       Canidae          Canis familiaris         Domestic Dog   \n",
      "74580       Canidae             Canis latrans               Coyote   \n",
      "74581       Canidae  Urocyon cinereoargenteus             Gray Fox   \n",
      "74582       Canidae             Vulpes vulpes              Red Fox   \n",
      "...             ...                       ...                  ...   \n",
      "77072     Unionidae    Truncilla donaciformis            Fawnsfoot   \n",
      "77073     Unionidae        Truncilla truncata              Deertoe   \n",
      "77074     Unionidae    Utterbackia imbecillis      Paper Pondshell   \n",
      "77075     Unionidae          Villosa ortmanni  Kentucky Creekshell   \n",
      "77076  Corbiculidae        Corbicula fluminea           Asian Clam   \n",
      "\n",
      "      Record Status     Occurrence  Nativeness  ... Conservation Status  \\\n",
      "74578      Approved        Present      Native  ...                 NaN   \n",
      "74579      Approved        Present  Not Native  ...                 NaN   \n",
      "74580      Approved        Present     Unknown  ...  Species of Concern   \n",
      "74581      Approved  Not Confirmed      Native  ...                 NaN   \n",
      "74582      Approved  Not Confirmed     Unknown  ...                 NaN   \n",
      "...             ...            ...         ...  ...                 ...   \n",
      "77072     In Review        Present         NaN  ...                 NaN   \n",
      "77073     In Review        Present         NaN  ...                 NaN   \n",
      "77074     In Review        Present         NaN  ...                 NaN   \n",
      "77075     In Review        Present         NaN  ...        Under Review   \n",
      "77076     In Review        Present         NaN  ...                 NaN   \n",
      "\n",
      "      Max_Month_Av Min_Month_AV  Annual_Precipitation  Future_Max  Future_Min  \\\n",
      "74578           26            2                 625.3          28         4.3   \n",
      "74579           26            2                 625.3          28         4.3   \n",
      "74580           26            2                 625.3          28         4.3   \n",
      "74581           26            2                 625.3          28         4.3   \n",
      "74582           26            2                 625.3          28         4.3   \n",
      "...            ...          ...                   ...         ...         ...   \n",
      "77072           26            2                 625.3          28         4.3   \n",
      "77073           26            2                 625.3          28         4.3   \n",
      "77074           26            2                 625.3          28         4.3   \n",
      "77075           26            2                 625.3          28         4.3   \n",
      "77076           26            2                 625.3          28         4.3   \n",
      "\n",
      "       Future_Pricip  Longitude  Latitude  State  \n",
      "74578        669.071      -86.1     37.18     KY  \n",
      "74579        669.071      -86.1     37.18     KY  \n",
      "74580        669.071      -86.1     37.18     KY  \n",
      "74581        669.071      -86.1     37.18     KY  \n",
      "74582        669.071      -86.1     37.18     KY  \n",
      "...              ...        ...       ...    ...  \n",
      "77072        669.071      -86.1     37.18     KY  \n",
      "77073        669.071      -86.1     37.18     KY  \n",
      "77074        669.071      -86.1     37.18     KY  \n",
      "77075        669.071      -86.1     37.18     KY  \n",
      "77076        669.071      -86.1     37.18     KY  \n",
      "\n",
      "[2499 rows x 22 columns]\n"
     ]
    },
    {
     "data": {
      "text/html": [
       "<div>\n",
       "<style scoped>\n",
       "    .dataframe tbody tr th:only-of-type {\n",
       "        vertical-align: middle;\n",
       "    }\n",
       "\n",
       "    .dataframe tbody tr th {\n",
       "        vertical-align: top;\n",
       "    }\n",
       "\n",
       "    .dataframe thead th {\n",
       "        text-align: right;\n",
       "    }\n",
       "</style>\n",
       "<table border=\"1\" class=\"dataframe\">\n",
       "  <thead>\n",
       "    <tr style=\"text-align: right;\">\n",
       "      <th></th>\n",
       "      <th>Species ID</th>\n",
       "      <th>Park Name</th>\n",
       "      <th>Category</th>\n",
       "      <th>Order</th>\n",
       "      <th>Family</th>\n",
       "      <th>Scientific Name</th>\n",
       "      <th>Common Names</th>\n",
       "      <th>Record Status</th>\n",
       "      <th>Occurrence</th>\n",
       "      <th>Nativeness</th>\n",
       "      <th>...</th>\n",
       "      <th>Conservation Status</th>\n",
       "      <th>Max_Month_Av</th>\n",
       "      <th>Min_Month_AV</th>\n",
       "      <th>Annual_Precipitation</th>\n",
       "      <th>Future_Max</th>\n",
       "      <th>Future_Min</th>\n",
       "      <th>Future_Pricip</th>\n",
       "      <th>Longitude</th>\n",
       "      <th>Latitude</th>\n",
       "      <th>State</th>\n",
       "    </tr>\n",
       "  </thead>\n",
       "  <tbody>\n",
       "  </tbody>\n",
       "</table>\n",
       "<p>0 rows × 22 columns</p>\n",
       "</div>"
      ],
      "text/plain": [
       "Empty DataFrame\n",
       "Columns: [Species ID, Park Name, Category, Order, Family, Scientific Name, Common Names, Record Status, Occurrence, Nativeness, Abundance, Seasonality, Conservation Status, Max_Month_Av, Min_Month_AV, Annual_Precipitation, Future_Max, Future_Min, Future_Pricip, Longitude, Latitude, State]\n",
       "Index: []\n",
       "\n",
       "[0 rows x 22 columns]"
      ]
     },
     "execution_count": 19,
     "metadata": {},
     "output_type": "execute_result"
    }
   ],
   "source": [
    "import pandas as pd\n",
    "\n",
    "# Assuming Species_with_State is your original DataFrame\n",
    "# Replace 'State' with the actual column name in your DataFrame\n",
    "# to check if it equals 'Utah\n",
    "Ten_species_df = Species_with_State[Species_with_State['Park Name'] == 'Mammoth Cave National Park']\n",
    "# Display the new DataFrame with only rows where State is 'Utah'\n",
    "print(Ten_species_df)\n",
    "# Replace 'Park Name' with the actual column name in your DataFrame\n",
    "# that contains the park names\n",
    "Ten_species_df_no_duplicates = utah_species_df.drop_duplicates(subset='Park Name', keep='first')\n",
    "\n",
    "# Display the new DataFrame without duplicate park names\n",
    "Ten_species_df_no_duplicates"
   ]
  },
  {
   "cell_type": "code",
   "execution_count": null,
   "id": "fb2387de",
   "metadata": {},
   "outputs": [],
   "source": []
  }
 ],
 "metadata": {
  "kernelspec": {
   "display_name": "Python 3 (ipykernel)",
   "language": "python",
   "name": "python3"
  },
  "language_info": {
   "codemirror_mode": {
    "name": "ipython",
    "version": 3
   },
   "file_extension": ".py",
   "mimetype": "text/x-python",
   "name": "python",
   "nbconvert_exporter": "python",
   "pygments_lexer": "ipython3",
   "version": "3.9.13"
  }
 },
 "nbformat": 4,
 "nbformat_minor": 5
}
